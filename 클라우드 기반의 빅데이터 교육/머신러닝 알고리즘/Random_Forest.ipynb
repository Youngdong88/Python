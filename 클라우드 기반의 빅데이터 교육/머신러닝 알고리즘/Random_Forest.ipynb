{
  "nbformat": 4,
  "nbformat_minor": 0,
  "metadata": {
    "colab": {
      "name": "Random Forest.ipynb",
      "version": "0.3.2",
      "provenance": [],
      "include_colab_link": true
    },
    "kernelspec": {
      "name": "python3",
      "display_name": "Python 3"
    }
  },
  "cells": [
    {
      "cell_type": "markdown",
      "metadata": {
        "id": "view-in-github",
        "colab_type": "text"
      },
      "source": [
        "<a href=\"https://colab.research.google.com/github/dongdong-e/Python/blob/master/%ED%81%B4%EB%9D%BC%EC%9A%B0%EB%93%9C%20%EA%B8%B0%EB%B0%98%EC%9D%98%20%EB%B9%85%EB%8D%B0%EC%9D%B4%ED%84%B0%20%EA%B5%90%EC%9C%A1/%EB%A8%B8%EC%8B%A0%EB%9F%AC%EB%8B%9D%20%EC%95%8C%EA%B3%A0%EB%A6%AC%EC%A6%98/Random_Forest.ipynb\" target=\"_parent\"><img src=\"https://colab.research.google.com/assets/colab-badge.svg\" alt=\"Open In Colab\"/></a>"
      ]
    },
    {
      "metadata": {
        "id": "eHoWkjizypZT",
        "colab_type": "text"
      },
      "cell_type": "markdown",
      "source": [
        "# **랜덤 포레스트(Random Forest, RF)**"
      ]
    },
    {
      "metadata": {
        "id": "sPiOdKbfzT0j",
        "colab_type": "text"
      },
      "cell_type": "markdown",
      "source": [
        "* **(1) 부스팅(Boosting): RF는 Dataset을 나누고 중복된 데이터를 허용한다.**\n",
        "    * **RF는 Decision Tree(DT)가 Overfitting 상태일 경우 솔루션으로 사용 가능**\n",
        "* **(2) DT에서는 가장 좋은 질문을 던져서 Dataset을 분류하지만, RF는 질문이 랜덤이기 때문에 좋은 질문이 아닐 수도 있다.**\n",
        "* **(3) RF는 투표(Aggregating)를 통해서 결과를 예측한다.**"
      ]
    },
    {
      "metadata": {
        "id": "bgmWDBn5zOrV",
        "colab_type": "code",
        "colab": {}
      },
      "cell_type": "code",
      "source": [
        "from sklearn import datasets\n",
        "from sklearn.ensemble import RandomForestClassifier\n",
        "from sklearn.model_selection import train_test_split\n",
        "from sklearn.model_selection import cross_val_score\n",
        "from sklearn import metrics\n",
        "\n",
        "import pandas as pd\n",
        "import numpy as np\n",
        "import matplotlib.pyplot as plt"
      ],
      "execution_count": 0,
      "outputs": []
    },
    {
      "metadata": {
        "id": "Wi7UABMQLUmZ",
        "colab_type": "text"
      },
      "cell_type": "markdown",
      "source": [
        ""
      ]
    },
    {
      "metadata": {
        "id": "my6PmZPB1MH_",
        "colab_type": "code",
        "colab": {}
      },
      "cell_type": "code",
      "source": [
        "# 데이터 로딩\n",
        "iris = datasets.load_iris()"
      ],
      "execution_count": 0,
      "outputs": []
    },
    {
      "metadata": {
        "id": "7VPYi46P1PuZ",
        "colab_type": "code",
        "outputId": "8cb50ae9-24b0-4223-aba3-a611425a3938",
        "colab": {
          "base_uri": "https://localhost:8080/",
          "height": 107
        }
      },
      "cell_type": "code",
      "source": [
        "iris.target_names, iris.feature_names"
      ],
      "execution_count": 0,
      "outputs": [
        {
          "output_type": "execute_result",
          "data": {
            "text/plain": [
              "(array(['setosa', 'versicolor', 'virginica'], dtype='<U10'),\n",
              " ['sepal length (cm)',\n",
              "  'sepal width (cm)',\n",
              "  'petal length (cm)',\n",
              "  'petal width (cm)'])"
            ]
          },
          "metadata": {
            "tags": []
          },
          "execution_count": 74
        }
      ]
    },
    {
      "metadata": {
        "id": "UL8_abFc_V2l",
        "colab_type": "text"
      },
      "cell_type": "markdown",
      "source": [
        "![대체 텍스트](https://user-images.githubusercontent.com/42408554/55605591-349bd800-57b0-11e9-8746-50fea3a3ae21.png)\n",
        "\n",
        "![대체 텍스트](https://user-images.githubusercontent.com/42408554/55605538-fa323b00-57af-11e9-9942-b38d74da0163.png)"
      ]
    },
    {
      "metadata": {
        "id": "iRZSu_Wz1ZjP",
        "colab_type": "code",
        "outputId": "8f901138-b527-4490-ab9d-c37dce7d34b8",
        "colab": {
          "base_uri": "https://localhost:8080/",
          "height": 91
        }
      },
      "cell_type": "code",
      "source": [
        "x = iris.data\n",
        "y = iris.target.reshape(-1, 1)\n",
        "\n",
        "x.shape, y.shape\n",
        "xtrain, xtest, ytrain, ytest = train_test_split(x, y, test_size = 0.4)\n",
        "\n",
        "rdClf = RandomForestClassifier(n_estimators = 10)\n",
        "rdClf.fit(xtrain, ytrain)\n",
        "rResult = rdClf.predict(xtest)\n",
        "\n",
        "metrics.accuracy_score(ytest, rResult)"
      ],
      "execution_count": 0,
      "outputs": [
        {
          "output_type": "stream",
          "text": [
            "/usr/local/lib/python3.6/dist-packages/ipykernel_launcher.py:8: DataConversionWarning: A column-vector y was passed when a 1d array was expected. Please change the shape of y to (n_samples,), for example using ravel().\n",
            "  \n"
          ],
          "name": "stderr"
        },
        {
          "output_type": "execute_result",
          "data": {
            "text/plain": [
              "0.9833333333333333"
            ]
          },
          "metadata": {
            "tags": []
          },
          "execution_count": 101
        }
      ]
    },
    {
      "metadata": {
        "id": "6hmGiZix6EEh",
        "colab_type": "code",
        "outputId": "75165976-5710-4ecf-f159-a4b33df41e15",
        "colab": {
          "base_uri": "https://localhost:8080/",
          "height": 35
        }
      },
      "cell_type": "code",
      "source": [
        "metrics.precision_score(ytest, rResult, average = None)\n",
        "metrics"
      ],
      "execution_count": 0,
      "outputs": [
        {
          "output_type": "execute_result",
          "data": {
            "text/plain": [
              "<module 'sklearn.metrics' from '/usr/local/lib/python3.6/dist-packages/sklearn/metrics/__init__.py'>"
            ]
          },
          "metadata": {
            "tags": []
          },
          "execution_count": 94
        }
      ]
    }
  ]
}