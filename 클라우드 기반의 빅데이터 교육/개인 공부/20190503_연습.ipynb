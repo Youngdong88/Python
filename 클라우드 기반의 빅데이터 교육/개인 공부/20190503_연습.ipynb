{
  "nbformat": 4,
  "nbformat_minor": 0,
  "metadata": {
    "colab": {
      "name": "낙서.ipynb",
      "version": "0.3.2",
      "provenance": []
    },
    "kernelspec": {
      "name": "python3",
      "display_name": "Python 3"
    }
  },
  "cells": [
    {
      "cell_type": "code",
      "metadata": {
        "id": "LXBFKRx-sRcO",
        "colab_type": "code",
        "colab": {}
      },
      "source": [
        "import pandas as pd\n",
        "import numpy as np"
      ],
      "execution_count": 0,
      "outputs": []
    },
    {
      "cell_type": "code",
      "metadata": {
        "id": "r62PJMjKrXxw",
        "colab_type": "code",
        "colab": {}
      },
      "source": [
        ""
      ],
      "execution_count": 0,
      "outputs": []
    },
    {
      "cell_type": "code",
      "metadata": {
        "id": "v8m_jROtvG6Y",
        "colab_type": "code",
        "colab": {
          "base_uri": "https://localhost:8080/",
          "height": 306
        },
        "outputId": "0667f65b-878a-4c77-90cc-d604b94fc798"
      },
      "source": [
        "test_final = pd.read_csv('test_final.csv')\n",
        "test_final = test_final.fillna('null')\n",
        "test_final.head()"
      ],
      "execution_count": 53,
      "outputs": [
        {
          "output_type": "execute_result",
          "data": {
            "text/html": [
              "<div>\n",
              "<style scoped>\n",
              "    .dataframe tbody tr th:only-of-type {\n",
              "        vertical-align: middle;\n",
              "    }\n",
              "\n",
              "    .dataframe tbody tr th {\n",
              "        vertical-align: top;\n",
              "    }\n",
              "\n",
              "    .dataframe thead th {\n",
              "        text-align: right;\n",
              "    }\n",
              "</style>\n",
              "<table border=\"1\" class=\"dataframe\">\n",
              "  <thead>\n",
              "    <tr style=\"text-align: right;\">\n",
              "      <th></th>\n",
              "      <th>명칭</th>\n",
              "      <th>소속</th>\n",
              "      <th>왕(인물)</th>\n",
              "      <th>왕(시기)</th>\n",
              "      <th>유형</th>\n",
              "      <th>분류</th>\n",
              "      <th>행정 구</th>\n",
              "      <th>연도</th>\n",
              "      <th>설명2</th>\n",
              "    </tr>\n",
              "  </thead>\n",
              "  <tbody>\n",
              "    <tr>\n",
              "      <th>0</th>\n",
              "      <td>지광국사현묘탑</td>\n",
              "      <td>null</td>\n",
              "      <td>null</td>\n",
              "      <td>문종(고려)</td>\n",
              "      <td>승탑</td>\n",
              "      <td>국보</td>\n",
              "      <td>종로구</td>\n",
              "      <td>1075년</td>\n",
              "      <td>지광국사탑은 고려시대 조정이 최고의 승려에게 내리는 법계인 ‘국사’(國師)를 받은 ...</td>\n",
              "    </tr>\n",
              "    <tr>\n",
              "      <th>1</th>\n",
              "      <td>홍화문</td>\n",
              "      <td>창경궁</td>\n",
              "      <td>null</td>\n",
              "      <td>성종(건립), 광해군(재건)</td>\n",
              "      <td>궁궐, 궁문</td>\n",
              "      <td>보물</td>\n",
              "      <td>종로구</td>\n",
              "      <td>1484년</td>\n",
              "      <td>정면 3칸, 측면 2칸의 중층(2층) 우진각지붕으로 동쪽으로 향한 점이 특징인 대문...</td>\n",
              "    </tr>\n",
              "    <tr>\n",
              "      <th>2</th>\n",
              "      <td>창녕위궁재사</td>\n",
              "      <td>null</td>\n",
              "      <td>null</td>\n",
              "      <td>순조</td>\n",
              "      <td>건축, 재사</td>\n",
              "      <td>등록문화재</td>\n",
              "      <td>강북구</td>\n",
              "      <td>1832년</td>\n",
              "      <td>1832년에 복온공주가 세상을 떠난 뒤 무덤이 주변에 자리하였고, 이어서 김병주의 ...</td>\n",
              "    </tr>\n",
              "    <tr>\n",
              "      <th>3</th>\n",
              "      <td>후원</td>\n",
              "      <td>창덕궁</td>\n",
              "      <td>null</td>\n",
              "      <td>태종</td>\n",
              "      <td>유적, 정원</td>\n",
              "      <td>사적</td>\n",
              "      <td>종로구</td>\n",
              "      <td>1405년</td>\n",
              "      <td>창덕궁 후원(昌德宮後苑) 또는 비원(?苑)은 창덕궁 북쪽에 창경궁과 붙어 있는 한국...</td>\n",
              "    </tr>\n",
              "    <tr>\n",
              "      <th>4</th>\n",
              "      <td>창빈안씨묘역</td>\n",
              "      <td>null</td>\n",
              "      <td>숙종, 선조</td>\n",
              "      <td>명종</td>\n",
              "      <td>묘</td>\n",
              "      <td>시도유형문화재</td>\n",
              "      <td>동작구</td>\n",
              "      <td>1683년</td>\n",
              "      <td>창빈 안씨 묘역(昌嬪 安氏 墓域)은 조선 제11대 임금 중종(1488∼1544)의 ...</td>\n",
              "    </tr>\n",
              "  </tbody>\n",
              "</table>\n",
              "</div>"
            ],
            "text/plain": [
              "        명칭    소속   왕(인물)            왕(시기)      유형       분류 행정 구     연도  \\\n",
              "0  지광국사현묘탑  null    null           문종(고려)      승탑       국보  종로구  1075년   \n",
              "1      홍화문   창경궁    null  성종(건립), 광해군(재건)  궁궐, 궁문       보물  종로구  1484년   \n",
              "2   창녕위궁재사  null    null               순조  건축, 재사    등록문화재  강북구  1832년   \n",
              "3       후원   창덕궁    null               태종  유적, 정원       사적  종로구  1405년   \n",
              "4   창빈안씨묘역  null  숙종, 선조               명종       묘  시도유형문화재  동작구  1683년   \n",
              "\n",
              "                                                 설명2  \n",
              "0  지광국사탑은 고려시대 조정이 최고의 승려에게 내리는 법계인 ‘국사’(國師)를 받은 ...  \n",
              "1  정면 3칸, 측면 2칸의 중층(2층) 우진각지붕으로 동쪽으로 향한 점이 특징인 대문...  \n",
              "2  1832년에 복온공주가 세상을 떠난 뒤 무덤이 주변에 자리하였고, 이어서 김병주의 ...  \n",
              "3  창덕궁 후원(昌德宮後苑) 또는 비원(?苑)은 창덕궁 북쪽에 창경궁과 붙어 있는 한국...  \n",
              "4  창빈 안씨 묘역(昌嬪 安氏 墓域)은 조선 제11대 임금 중종(1488∼1544)의 ...  "
            ]
          },
          "metadata": {
            "tags": []
          },
          "execution_count": 53
        }
      ]
    },
    {
      "cell_type": "code",
      "metadata": {
        "id": "GNezXm8CscUG",
        "colab_type": "code",
        "colab": {}
      },
      "source": [
        "from konlpy.tag import *\n",
        "from gensim.models import Word2Vec\n",
        "import gensim.models\n",
        "\n",
        "hannanum = Hannanum()\n",
        "kkma = Kkma()\n",
        "komoran = Komoran()\n",
        "okt = Okt()"
      ],
      "execution_count": 0,
      "outputs": []
    },
    {
      "cell_type": "code",
      "metadata": {
        "id": "t9oFZEG4t9nW",
        "colab_type": "code",
        "colab": {}
      },
      "source": [
        "test_sulmyung = test_final['설명2'].apply(hannanum.nouns)"
      ],
      "execution_count": 0,
      "outputs": []
    }
  ]
}