{
 "cells": [
  {
   "cell_type": "markdown",
   "metadata": {},
   "source": [
    "### **컴퓨터가 학습할 수 있도록 알고리즘과 기술을 개발하는 분야**\n",
    ": 기계 학습\n",
    "<br></br>\n",
    "### **머신러닝 종류**\n",
    "* **지도학습**\n",
    "* **비지도학습**\n",
    "* **강화학습**\n",
    "<br></br>\n",
    "### **분류(측정요소)**\n",
    "* **Accuracy**\n",
    "* **Precision**\n",
    "* **Recall**\n",
    "* **F-score**\n",
    "<br></br>\n",
    "### **머신러닝 라이브러리**\n",
    "* **scikit-learn**\n",
    "* **sklearn**\n",
    "* **Tensorflow**\n",
    "* **Keras**\n",
    "<br></br>\n",
    "### **머신러닝 알고리즘에서 프랑스어로 ‘통일, 조화’를 의미하는 것**\n",
    "* **앙상블**\n",
    "<br></br>\n",
    "### **Tensorflow란?**\n",
    "* **2011년 구글 개발, 딥러닝과 머신러닝 개발을 쉽게 하기 위해서 만들어진 라이브러리**\n",
    "<br></br>\n",
    "### **비지도 학습**\n",
    "* **추천 시스템**\n",
    "* **구매 습관(패턴) 분석**\n",
    "* **사용자 로그 그룹화**\n",
    "<br></br>\n",
    "### **텐서보드란?**\n",
    "* **텐서플로우 프로그램을 쉽게 이해하고 디버깅을 쉽게 하도록 제공하는 기능**\n",
    "<br></br>\n",
    "### **CNN 정의**\n",
    "* **전통적인 뉴런 네트워크의 앞에 여러 계층을 구성하여 만든 모양**\n",
    "<br></br>\n",
    "### **비지도 학습의 알고리즘**\n",
    "* **K-Means**\n",
    "<br></br>\n",
    "### **지도 학습의 알고리즘**\n",
    "* **분류**\n",
    "* **예측**\n",
    "<br></br>\n",
    "### **Max pooling**\n",
    "* **Activation map을 M * N의 크리고 잘라낸 후, 그 안에서 가장 큰 값을 뽑아내는 방법**\n",
    "<br></br>\n",
    "### **Deep Learning이란?**\n",
    "* **딥 러닝(영어: deep learning), 심층학습은 여러 비선형 변환기법의 조합을 통해 높은 수준의 추상화(abstractions, 다량의 데이터나 복잡한 자료들 속에서 핵심적인 내용 또는 기능을 요약하는 작업)를 시도하는 기계학습(machine learning) 알고리즘의 집합으로 정의되며, 큰 틀에서 사람의 사고방식을 컴퓨터에게 가르치는 기계학습의 한 분야라고 이야기할 수 있다.**\n",
    "<br></br>\n",
    "### **머신러닝의 시나리오**\n",
    "* **패턴감지**\n",
    "* **통계분석**\n",
    "* **소프트웨어 모델 생성**\n",
    "<br></br>\n",
    "### **python machine learning에 필요한 라이브러리**\n",
    "* **numpy**\n",
    "* **pandas**\n",
    "* **sklearn**\n",
    "<br></br>\n",
    "### **TDSP(Team Data Science Process)**\n",
    "* **데이터 과학 수명 주기 정의**\n",
    "* **표준화된 프로젝트 구조**\n",
    "* **데이터 과학 프로젝트에 대한 인프라 및 리소스**\n",
    "* **프로젝트 실행에 대한 도구 및 유틸리티**\n",
    "<br></br>\n",
    "### **TDSP(Team Data Science Process)**"
   ]
  },
  {
   "cell_type": "markdown",
   "metadata": {},
   "source": [
    "- Normaling Data Module\n",
    "    - Zscore\n",
    "    - MinMax\n",
    "    - TanHd"
   ]
  }
 ],
 "metadata": {
  "kernelspec": {
   "display_name": "Python 3",
   "language": "python",
   "name": "python3"
  },
  "language_info": {
   "codemirror_mode": {
    "name": "ipython",
    "version": 3
   },
   "file_extension": ".py",
   "mimetype": "text/x-python",
   "name": "python",
   "nbconvert_exporter": "python",
   "pygments_lexer": "ipython3",
   "version": "3.7.3"
  }
 },
 "nbformat": 4,
 "nbformat_minor": 2
}
