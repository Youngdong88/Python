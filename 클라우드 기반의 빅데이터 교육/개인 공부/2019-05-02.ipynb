{
  "nbformat": 4,
  "nbformat_minor": 0,
  "metadata": {
    "colab": {
      "name": "연습.ipynb",
      "version": "0.3.2",
      "provenance": []
    },
    "kernelspec": {
      "name": "python3",
      "display_name": "Python 3"
    }
  },
  "cells": [
    {
      "metadata": {
        "id": "Ri-iDz_M7zFz",
        "colab_type": "code",
        "colab": {}
      },
      "cell_type": "code",
      "source": [
        "import pandas as pd\n",
        "import numpy as np\n",
        "\n",
        "from konlpy.tag import *\n",
        "from gensim.models import Word2Vec\n",
        "import gensim.models\n",
        "\n",
        "hannanum = Hannanum()\n",
        "kkma = Kkma()\n",
        "komoran = Komoran()\n",
        "okt = Okt()"
      ],
      "execution_count": 0,
      "outputs": []
    },
    {
      "metadata": {
        "id": "x35x4bL3EzS2",
        "colab_type": "code",
        "colab": {}
      },
      "cell_type": "code",
      "source": [
        "from konlpy.corpus import kobill"
      ],
      "execution_count": 0,
      "outputs": []
    },
    {
      "metadata": {
        "id": "qvQxlunvFRc4",
        "colab_type": "code",
        "colab": {}
      },
      "cell_type": "code",
      "source": [
        "from gensim import corpora"
      ],
      "execution_count": 0,
      "outputs": []
    },
    {
      "metadata": {
        "id": "tDBYT7Mt7i21",
        "colab_type": "code",
        "colab": {}
      },
      "cell_type": "code",
      "source": [
        "test_1 = pd.read_csv('test.csv')"
      ],
      "execution_count": 0,
      "outputs": []
    },
    {
      "metadata": {
        "id": "NSWkGBYn77I1",
        "colab_type": "code",
        "colab": {
          "base_uri": "https://localhost:8080/",
          "height": 204
        },
        "outputId": "2daa2dd1-8c49-4c3b-d56e-6d8abe4971ac"
      },
      "cell_type": "code",
      "source": [
        "test_1.head()"
      ],
      "execution_count": 88,
      "outputs": [
        {
          "output_type": "execute_result",
          "data": {
            "text/html": [
              "<div>\n",
              "<style scoped>\n",
              "    .dataframe tbody tr th:only-of-type {\n",
              "        vertical-align: middle;\n",
              "    }\n",
              "\n",
              "    .dataframe tbody tr th {\n",
              "        vertical-align: top;\n",
              "    }\n",
              "\n",
              "    .dataframe thead th {\n",
              "        text-align: right;\n",
              "    }\n",
              "</style>\n",
              "<table border=\"1\" class=\"dataframe\">\n",
              "  <thead>\n",
              "    <tr style=\"text-align: right;\">\n",
              "      <th></th>\n",
              "      <th>명칭</th>\n",
              "      <th>주소</th>\n",
              "      <th>행정 구</th>\n",
              "      <th>연도</th>\n",
              "      <th>설명</th>\n",
              "    </tr>\n",
              "  </thead>\n",
              "  <tbody>\n",
              "    <tr>\n",
              "      <th>0</th>\n",
              "      <td>지광국사현묘탑</td>\n",
              "      <td>NaN</td>\n",
              "      <td>종로구</td>\n",
              "      <td>1075년</td>\n",
              "      <td>1962년 12월 20일 국보 제101호로 지정되었다. 전체 높이는 6.1m이다. ...</td>\n",
              "    </tr>\n",
              "    <tr>\n",
              "      <th>1</th>\n",
              "      <td>창경궁홍화문</td>\n",
              "      <td>NaN</td>\n",
              "      <td>종로구</td>\n",
              "      <td>1484년</td>\n",
              "      <td>보물 제384호. 우진각지붕집. 정면 3칸, 측면 2칸의 다포계 중층 문루. 148...</td>\n",
              "    </tr>\n",
              "    <tr>\n",
              "      <th>2</th>\n",
              "      <td>창녕위궁재사</td>\n",
              "      <td>NaN</td>\n",
              "      <td>강북구</td>\n",
              "      <td>1832년</td>\n",
              "      <td>조선 제23대 순조의 둘째 딸 복온공주(福溫公主:1818~1832)와 부마 창녕위(...</td>\n",
              "    </tr>\n",
              "    <tr>\n",
              "      <th>3</th>\n",
              "      <td>창덕궁 후원</td>\n",
              "      <td>NaN</td>\n",
              "      <td>종로구</td>\n",
              "      <td>1405년</td>\n",
              "      <td>면적 10만 3000여 평. 사적 제122호로 지정된 창덕궁 안에 있는 조선시대 정...</td>\n",
              "    </tr>\n",
              "    <tr>\n",
              "      <th>4</th>\n",
              "      <td>창빈안씨묘역</td>\n",
              "      <td>NaN</td>\n",
              "      <td>동작구</td>\n",
              "      <td>1683년</td>\n",
              "      <td>1983년에 서울시유형문화재 제54호로 지정되었다. 조선 제11대 중종의 후궁(後宮...</td>\n",
              "    </tr>\n",
              "  </tbody>\n",
              "</table>\n",
              "</div>"
            ],
            "text/plain": [
              "        명칭  주소 행정 구     연도                                                 설명\n",
              "0  지광국사현묘탑 NaN  종로구  1075년  1962년 12월 20일 국보 제101호로 지정되었다. 전체 높이는 6.1m이다. ...\n",
              "1   창경궁홍화문 NaN  종로구  1484년  보물 제384호. 우진각지붕집. 정면 3칸, 측면 2칸의 다포계 중층 문루. 148...\n",
              "2   창녕위궁재사 NaN  강북구  1832년  조선 제23대 순조의 둘째 딸 복온공주(福溫公主:1818~1832)와 부마 창녕위(...\n",
              "3   창덕궁 후원 NaN  종로구  1405년  면적 10만 3000여 평. 사적 제122호로 지정된 창덕궁 안에 있는 조선시대 정...\n",
              "4   창빈안씨묘역 NaN  동작구  1683년  1983년에 서울시유형문화재 제54호로 지정되었다. 조선 제11대 중종의 후궁(後宮..."
            ]
          },
          "metadata": {
            "tags": []
          },
          "execution_count": 88
        }
      ]
    },
    {
      "metadata": {
        "id": "SxOEUQ1G9yUz",
        "colab_type": "code",
        "colab": {}
      },
      "cell_type": "code",
      "source": [
        "test_sulmyung = test_1['설명'].apply(hannanum.nouns)"
      ],
      "execution_count": 0,
      "outputs": []
    },
    {
      "metadata": {
        "id": "Q5M4GS708JfL",
        "colab_type": "code",
        "colab": {
          "base_uri": "https://localhost:8080/",
          "height": 35
        },
        "outputId": "2b1922df-610c-4357-c332-386847a50abf"
      },
      "cell_type": "code",
      "source": [
        "type(test_sulmyung[0])"
      ],
      "execution_count": 151,
      "outputs": [
        {
          "output_type": "execute_result",
          "data": {
            "text/plain": [
              "list"
            ]
          },
          "metadata": {
            "tags": []
          },
          "execution_count": 151
        }
      ]
    },
    {
      "metadata": {
        "id": "3trQeRa_iRTB",
        "colab_type": "code",
        "colab": {
          "base_uri": "https://localhost:8080/",
          "height": 35
        },
        "outputId": "94e8039e-8f60-4c8e-cda7-beba964553b5"
      },
      "cell_type": "code",
      "source": [
        "\" \".join(test_sulmyung[0])"
      ],
      "execution_count": 163,
      "outputs": [
        {
          "output_type": "execute_result",
          "data": {
            "text/plain": [
              "'1962년 12월 20일 국보 제101호 지정 전체 6. 1m 강원 원주시 부론면(富論面) 법천리(法泉里) 국권침탈 직후 일본 반출 반환 경복궁'"
            ]
          },
          "metadata": {
            "tags": []
          },
          "execution_count": 163
        }
      ]
    },
    {
      "metadata": {
        "id": "IMOPPx1JpY4S",
        "colab_type": "code",
        "colab": {}
      },
      "cell_type": "code",
      "source": [
        "test1=test_sulmyung.str.join(\" \")"
      ],
      "execution_count": 0,
      "outputs": []
    },
    {
      "metadata": {
        "id": "ibUorH04h-6C",
        "colab_type": "code",
        "colab": {
          "base_uri": "https://localhost:8080/",
          "height": 1133
        },
        "outputId": "3ad8c805-f5c9-4d1c-bb71-3e6639a3f4a4"
      },
      "cell_type": "code",
      "source": [
        "test1"
      ],
      "execution_count": 165,
      "outputs": [
        {
          "output_type": "execute_result",
          "data": {
            "text/plain": [
              "0      1962년 12월 20일 국보 제101호 지정 전체 6. 1m 강원 원주시 부론면(...\n",
              "1      보물 제384호 우진각지붕집 정면 3칸 측면 2칸 다포계 중층 문루 1484년(성종...\n",
              "2      조선 제23대 순조 둘째 복온공주(福溫公主:1818~1832) 부마 창녕위(昌寧尉)...\n",
              "3      면적 10 3000 평 사적 제122호 지정 창덕궁 안 조선시대 정원 조선왕궁 놀이...\n",
              "4      1983년 서울시유형문화재 제54호 지정 조선 제11대 중종 후궁(後宮) 선조 할머...\n",
              "5      122. 8cm, 세 200. 9cm, 두 11. 8cm 흑요석 것 중국 <순우천문...\n",
              "6      왕 편전(便殿) 왕 신하 학문 토론 장소 앞면 6칸 옆면 4칸 24칸 건물 앞면 중...\n",
              "7      태종 둘째 아들 세종 형 효령대군보 사당 묘소 정식명칭 청권사부묘소 묘역 18,73...\n",
              "8      초안산 조선시대 분묘 양반 분묘 서민 민묘까지 다양한 계층 무덤 1,000기 이상 ...\n",
              "9      1988년 4월 20일 서울특별시유형문화재 제70호 지정 서울특별시 노원구 하계동 ...\n",
              "10     1984년 서울특별시유형문화재 제59호 지정 조선 숙종 때 우의정 충헌공 김구 신도...\n",
              "11     칠사 七祀堂 칠사위 사당 종묘 창건 때 정전 울타리 월 남쪽 왼쪽 것 사명 호 여름...\n",
              "12     조선 제11대왕 중종 계비 문정왕후 능 사적 제201호 태릉 채 십이지신상 병석 신...\n",
              "13     서울시 노원구 화랑로 조선 제13대 왕 명종(明宗:재위 1545∼1567) 명종비 ...\n",
              "14     창경궁 내전 왕 생활공간 연회장소 공간 내전 전각 중 가장 상징적 건축물이며 규모 ...\n",
              "15     조선시대 풍향 관측 설치 받침돌 여기 풍기죽 24방향 풍향 측정 여기 풍기죽(風旗竹...\n",
              "16                                     창덕궁 문 후원 입구 우측 자리\n",
              "17     창경궁 있는 전각 임금들 편전 사용 곳 창경궁 함인정(涵仁亭) 자리 성종 때 건립 ...\n",
              "18     향대청 종묘 향축폐(香祝幣) 제사 예불 보관 제향 관 대기 곳 남북 뜰 사이 동쪽 ...\n",
              "19                          조선 제23대 왕 순조 비 순원왕후 김씨 합장 무덤\n",
              "20                                조선 제3대 왕 태종 원경왕후 민씨 쌍릉\n",
              "21     통 라 도선국사 창건 갈궁사(葛弓寺) 시초 이후 창빈 안씨(昌嬪 安氏) 원찰 지정 ...\n",
              "22     경복궁 근정전(謹政殿) 앞 둘째문 경복궁 내 광화문 영제교(永濟橋) 금천교 사이 문...\n",
              "23     명성황후 고종 32년(1895) 일인(日人) 시해 2년 뒤 현재 서울시 동대문구 청...\n",
              "24     보물 제384호 정면 3칸 측면 2칸 다포계 중층 문루 1484년(성종 15 건립되...\n",
              "25           서울특별시 동작구 사당동 조선 중기 문신 한성판윤 일곱 번 이정영(李正英) 묘\n",
              "26     세종대왕 형 효령대군 묘 효령대군 태종 둘째아들 태종 12년 효령대군 평소 효성 지...\n",
              "27     조선 태종 둘째 아들 세종 형 효령대군(孝寧大君) 이보(李補)[원문은 李礻+甫] 사...\n",
              "28     창덕궁 조선시대 전각 보물 제815호로, 정면 11칸 측면 4칸 2익공식 팔작지붕건...\n",
              "29     사적 제117호 도성 북쪽 북궐(北闕) 조선왕조 건립 창건 초 정궁 사용 임진왜란 ...\n",
              "                             ...                        \n",
              "105               악공(樂工) 관아 음악 담당 음악 들 말 악공청 일 관장 조직체 지칭\n",
              "106    안중근의사 동상 독립운동 투신 순국 안중근의사 숭고 뜻 애국정신 후세 2010년 1...\n",
              "107    1925년 을축년 대홍수 때 일부 파손 채 발견 수렵·채집 생활 취락 형성 것 짐작...\n",
              "108    서울특별시 종로구 훈정동 조선 전기 우물 조선시대 역대 임금 종묘 전배할 때 우물물...\n",
              "109    서울특별시 구로구 고척2동 조선시대 묘역 여계묘역 함양 여씨 선조 숭의랑공 여계(呂...\n",
              "110                   서울특별시 도봉구 방학동 조선 10대 왕 연산군 부인 씨 묘소\n",
              "111    조선시대 정궁 경복궁 서편 문 내용 서울특별시 종로구 세종로 1번지 소재 영추문(迎秋門)\n",
              "112                      조선시대 대명 사대외교 표상물 모화관 앞 일각문터 주초석\n",
              "113                         영제교 광화문 흥례문 근정문 사이 다리 근정전 다리\n",
              "114    영춘헌(迎春軒) 창경궁 북쪽 침전 건물 정조 서재 이곳 정조 대 이후 왕들 서재 사...\n",
              "115            서울특별시 동대문구 청량리동 조선 제26대왕 고종 후비 순헌귀비 엄씨 묘소\n",
              "116    예장동 느티나무(서2-6) 위치한 곳 일제강점기 조선총독 관저 곳 이곳 1885년 ...\n",
              "117                                  서울특별시 종로구 삼청동 조선 주택\n",
              "118            서울 종로구 와룡동 창경궁 창경궁 정문 홍화문 명정문 사이 금천 가설 석교\n",
              "119                                   서울특별시 노원구 월계동 개량한옥\n",
              "120    천 아우내 장터 독립만세운동 주동 체포 옥중 순국 유관순 열사 애국정신 후세 건립 ...\n",
              "121                 투구 갑옷 입 을지문덕 장군 정면 응시 왼손 칼집 칼 오른손 모습\n",
              "122     서울특별시 성북구 석관동 조선 20대 왕 경종 그 계비 선의왕후 어씨(宣懿王后 魚氏 능\n",
              "123    조선시대 이곳 낙산 언덕 배나무 그곳 정자 이름 이화장 유래 조선중기 기록 인근 인...\n",
              "124    서울특별시 종로구 와룡동창덕궁 조선시대 궁문 정면 3칸 측면 2칸 다포계(多包系) ...\n",
              "125    창덕궁 정전 태종 이방원 거처 이궁(離宮) 창덕궁 건립 1405년 완공 태종 때 정...\n",
              "126    나라 제사 증시 등 관아 나라 전사 외사(外祀)하 무 兆 시조 체사(禘祀), 지신 ...\n",
              "127                                  서울 용산구 전쟁 관련 기념관 전시\n",
              "128    1930년 일본 일본차량주식회사 제작 반강제(半鋼製) 보기 式 궤도차량 서울 서대문...\n",
              "129    서울특별시 중구 정동 덕수궁 내 궁중 건축물 고종 휴식 외교사절단 맞이 곳 1900...\n",
              "130                              영조어진 별칭 1900년 제작 영조 초상화\n",
              "131    서울특별시 종로구 훈정동 조선시대 사묘 조선 태조 이성계 선대 4조 대왕 왕비 신위...\n",
              "132    서울 종로구 와룡동 창덕궁 후원 규장각 2층 건물 2012년 8월 16일 보물 제1...\n",
              "133           서울특별시 중구 정동 덕수궁 정문 1985년 1월 8일 보물 제819호 지정\n",
              "134                 덕수궁 내전 임금 침전 덕수궁(德壽宮) 전각 임금 침전 사용 건물\n",
              "Name: 설명, Length: 135, dtype: object"
            ]
          },
          "metadata": {
            "tags": []
          },
          "execution_count": 165
        }
      ]
    },
    {
      "metadata": {
        "colab_type": "code",
        "id": "7taGYjsg_xD_",
        "colab": {}
      },
      "cell_type": "code",
      "source": [
        "from gensim.models import Word2Vec"
      ],
      "execution_count": 0,
      "outputs": []
    },
    {
      "metadata": {
        "id": "1F_JHoHR_yYZ",
        "colab_type": "code",
        "colab": {}
      },
      "cell_type": "code",
      "source": [
        "embedding_model = Word2Vec(test_sulmyung, min_count = 1)"
      ],
      "execution_count": 0,
      "outputs": []
    },
    {
      "metadata": {
        "id": "3oAS7ed6HCZi",
        "colab_type": "code",
        "colab": {
          "base_uri": "https://localhost:8080/",
          "height": 35
        },
        "outputId": "6e07f6b6-25e8-4bec-d852-8a5775d768fd"
      },
      "cell_type": "code",
      "source": [
        "embedding_model"
      ],
      "execution_count": 98,
      "outputs": [
        {
          "output_type": "stream",
          "text": [
            "Word2Vec(vocab=1667, size=100, alpha=0.025)\n"
          ],
          "name": "stdout"
        }
      ]
    },
    {
      "metadata": {
        "id": "VvU3glU9bQVL",
        "colab_type": "code",
        "colab": {
          "base_uri": "https://localhost:8080/",
          "height": 35
        },
        "outputId": "68ac27a4-e282-4a19-98b6-5adabbc283dd"
      },
      "cell_type": "code",
      "source": [
        "embedding_model"
      ],
      "execution_count": 107,
      "outputs": [
        {
          "output_type": "execute_result",
          "data": {
            "text/plain": [
              "<gensim.models.word2vec.Word2Vec at 0x7f679e23e208>"
            ]
          },
          "metadata": {
            "tags": []
          },
          "execution_count": 107
        }
      ]
    },
    {
      "metadata": {
        "id": "xPaqCpaKf0tm",
        "colab_type": "code",
        "colab": {}
      },
      "cell_type": "code",
      "source": [
        "from sklearn.feature_extraction.text import TfidfVectorizer\n",
        "from sklearn.naive_bayes import MultinomialNB\n",
        "from sklearn.linear_model import SGDClassifier\n",
        "from sklearn.pipeline import Pipeline\n",
        "from sklearn.metrics import accuracy_score\n",
        "from sklearn.cluster import KMeans"
      ],
      "execution_count": 0,
      "outputs": []
    },
    {
      "metadata": {
        "id": "E-VkaurEgVte",
        "colab_type": "code",
        "colab": {}
      },
      "cell_type": "code",
      "source": [
        "TfidfVectorizer?"
      ],
      "execution_count": 0,
      "outputs": []
    },
    {
      "metadata": {
        "id": "1cCh7iWSf6Ez",
        "colab_type": "code",
        "colab": {}
      },
      "cell_type": "code",
      "source": [
        "X_train = test1"
      ],
      "execution_count": 0,
      "outputs": []
    },
    {
      "metadata": {
        "id": "jgsVm_SVgSw8",
        "colab_type": "code",
        "colab": {}
      },
      "cell_type": "code",
      "source": [
        "tfidf = TfidfVectorizer()\n",
        "dataset1 = tfidf.fit_transform(X_train)"
      ],
      "execution_count": 0,
      "outputs": []
    },
    {
      "metadata": {
        "id": "SrIs7MQtvAFZ",
        "colab_type": "code",
        "colab": {}
      },
      "cell_type": "code",
      "source": [
        "from scipy.sparse import csr_matrix\n",
        "dataset2 = csr_matrix(dataset1, dtype=np.int8).toarray()"
      ],
      "execution_count": 0,
      "outputs": []
    },
    {
      "metadata": {
        "id": "KgdhSCxPqRtO",
        "colab_type": "code",
        "colab": {
          "base_uri": "https://localhost:8080/",
          "height": 143
        },
        "outputId": "01411319-2c37-44fa-b01a-05673937d61d"
      },
      "cell_type": "code",
      "source": [
        "dataset2"
      ],
      "execution_count": 218,
      "outputs": [
        {
          "output_type": "execute_result",
          "data": {
            "text/plain": [
              "array([[0, 0, 0, ..., 0, 0, 0],\n",
              "       [0, 0, 0, ..., 0, 0, 0],\n",
              "       [0, 0, 0, ..., 0, 0, 0],\n",
              "       ...,\n",
              "       [0, 0, 0, ..., 0, 0, 0],\n",
              "       [0, 0, 0, ..., 0, 0, 0],\n",
              "       [0, 0, 0, ..., 0, 0, 0]], dtype=int8)"
            ]
          },
          "metadata": {
            "tags": []
          },
          "execution_count": 218
        }
      ]
    },
    {
      "metadata": {
        "id": "FKV_1fPBrq2z",
        "colab_type": "code",
        "colab": {}
      },
      "cell_type": "code",
      "source": [
        "from sklearn.decomposition import PCA"
      ],
      "execution_count": 0,
      "outputs": []
    },
    {
      "metadata": {
        "id": "C02sYnFpsHMs",
        "colab_type": "code",
        "colab": {}
      },
      "cell_type": "code",
      "source": [
        "PCA1 = PCA(n_components = 5)"
      ],
      "execution_count": 0,
      "outputs": []
    },
    {
      "metadata": {
        "id": "mgE4rbAXsbqM",
        "colab_type": "code",
        "colab": {
          "base_uri": "https://localhost:8080/",
          "height": 53
        },
        "outputId": "1ed85879-82b8-4d7a-9a16-c3c09edb2abd"
      },
      "cell_type": "code",
      "source": [
        "PCA2 = PCA1.fit_transform(dataset2)"
      ],
      "execution_count": 220,
      "outputs": [
        {
          "output_type": "stream",
          "text": [
            "/usr/local/lib/python3.6/dist-packages/sklearn/decomposition/pca.py:535: RuntimeWarning: invalid value encountered in true_divide\n",
            "  self.explained_variance_ / total_var.sum()\n"
          ],
          "name": "stderr"
        }
      ]
    },
    {
      "metadata": {
        "id": "IrxsO5C-hOMi",
        "colab_type": "code",
        "colab": {}
      },
      "cell_type": "code",
      "source": [
        "km1=KMeans(n_clusters=3)"
      ],
      "execution_count": 0,
      "outputs": []
    },
    {
      "metadata": {
        "id": "hBrJbVPncnFk",
        "colab_type": "code",
        "colab": {}
      },
      "cell_type": "code",
      "source": [
        "out1=km1.fit_predict(dataset1)"
      ],
      "execution_count": 0,
      "outputs": []
    },
    {
      "metadata": {
        "id": "IB-YaUTyqKFX",
        "colab_type": "code",
        "colab": {
          "base_uri": "https://localhost:8080/",
          "height": 143
        },
        "outputId": "7a24e246-9adb-4823-9b87-ba3efd7b1e80"
      },
      "cell_type": "code",
      "source": [
        "out1"
      ],
      "execution_count": 223,
      "outputs": [
        {
          "output_type": "execute_result",
          "data": {
            "text/plain": [
              "array([2, 0, 1, 1, 1, 1, 1, 2, 1, 1, 1, 1, 1, 0, 2, 2, 1, 1, 2, 1, 1, 1,\n",
              "       2, 1, 0, 1, 1, 2, 0, 1, 2, 2, 1, 2, 1, 2, 1, 1, 1, 2, 1, 1, 1, 2,\n",
              "       2, 0, 2, 2, 2, 2, 1, 0, 1, 1, 2, 2, 1, 1, 1, 1, 1, 1, 0, 2, 1, 2,\n",
              "       1, 0, 1, 1, 1, 0, 0, 1, 0, 1, 1, 1, 1, 1, 1, 1, 1, 0, 0, 1, 1, 1,\n",
              "       1, 0, 2, 1, 1, 1, 0, 1, 1, 0, 1, 1, 0, 1, 2, 1, 1, 1, 0, 1, 1, 1,\n",
              "       1, 2, 1, 2, 2, 1, 2, 1, 2, 1, 1, 0, 1, 1, 0, 0, 2, 0, 1, 1, 1, 1,\n",
              "       1, 1, 1], dtype=int32)"
            ]
          },
          "metadata": {
            "tags": []
          },
          "execution_count": 223
        }
      ]
    },
    {
      "metadata": {
        "id": "XC_rYK8Aq12-",
        "colab_type": "code",
        "colab": {
          "base_uri": "https://localhost:8080/",
          "height": 1133
        },
        "outputId": "93f0aac6-dd0f-4d81-924d-aa7bc23d468a"
      },
      "cell_type": "code",
      "source": [
        "test_1[\"명칭\"][out1==1]"
      ],
      "execution_count": 225,
      "outputs": [
        {
          "output_type": "execute_result",
          "data": {
            "text/plain": [
              "2           창녕위궁재사\n",
              "3           창덕궁 후원\n",
              "4           창빈안씨묘역\n",
              "5       천상열차분야지도각석\n",
              "6              천추전\n",
              "8       초안산조선시대분묘군\n",
              "9         충숙공이상길묘역\n",
              "10         충헌공김구묘역\n",
              "11             칠사당\n",
              "12      태릉(세계문화유산)\n",
              "16             함양문\n",
              "17             함인정\n",
              "19           헌인릉인릉\n",
              "20           헌인릉헌릉\n",
              "21           호국지장사\n",
              "23              홍릉\n",
              "25        효간공이정영묘역\n",
              "26           효령대군릉\n",
              "29             경복궁\n",
              "32             덕수궁\n",
              "34      종묘(세계문화유산)\n",
              "36     창덕궁(세계문화유산)\n",
              "37           허준기념관\n",
              "38             가정당\n",
              "40             건청궁\n",
              "41             곡수지\n",
              "42             자경전\n",
              "50         광개토대왕릉비\n",
              "52        광평대군묘역일원\n",
              "53             광화문\n",
              "          ...     \n",
              "88          부산진순절도\n",
              "91          삼국지연의도\n",
              "92         삼봉정도전시비\n",
              "93            삼전도비\n",
              "95      선릉(세계문화유산)\n",
              "96      정릉(세계문화유산)\n",
              "98           송시열초상\n",
              "99             수정전\n",
              "101        신법구법천문도\n",
              "103        아차산봉수대지\n",
              "104        아차산봉수대터\n",
              "105            악공청\n",
              "107       암사동선사주거지\n",
              "108             어정\n",
              "109           여계묘역\n",
              "110           연산군묘\n",
              "112          영은문주초\n",
              "115            영휘원\n",
              "117       오위장김춘영가옥\n",
              "119         월계동각심재\n",
              "120          유관순동상\n",
              "122             의릉\n",
              "123            이화장\n",
              "128         전차363호\n",
              "129            정관헌\n",
              "130       조선영조왕이금상\n",
              "131          종묘영녕전\n",
              "132            주합루\n",
              "133            중화문\n",
              "134            즉조당\n",
              "Name: 명칭, Length: 83, dtype: object"
            ]
          },
          "metadata": {
            "tags": []
          },
          "execution_count": 225
        }
      ]
    },
    {
      "metadata": {
        "id": "eYKs4-2jK0G5",
        "colab_type": "text"
      },
      "cell_type": "markdown",
      "source": [
        "---"
      ]
    },
    {
      "metadata": {
        "id": "g1TS9YWXILHP",
        "colab_type": "code",
        "colab": {
          "base_uri": "https://localhost:8080/",
          "height": 53
        },
        "outputId": "4740dff7-2041-46e0-837a-13599da72ff7"
      },
      "cell_type": "code",
      "source": [
        "from konlpy.tag import Twitter; t = Twitter()\n",
        "tokens_ko = t.nouns(test_1['설명'][0])"
      ],
      "execution_count": 94,
      "outputs": [
        {
          "output_type": "stream",
          "text": [
            "/usr/local/lib/python3.6/dist-packages/konlpy/tag/_okt.py:16: UserWarning: \"Twitter\" has changed to \"Okt\" since KoNLPy v0.4.5.\n",
            "  warn('\"Twitter\" has changed to \"Okt\" since KoNLPy v0.4.5.')\n"
          ],
          "name": "stderr"
        }
      ]
    },
    {
      "metadata": {
        "id": "1IXgvnyeKGbO",
        "colab_type": "code",
        "colab": {}
      },
      "cell_type": "code",
      "source": [
        "test_sulmyung = test_1['설명'].apply(t.nouns)"
      ],
      "execution_count": 0,
      "outputs": []
    },
    {
      "metadata": {
        "id": "F2cJsd78KY_a",
        "colab_type": "code",
        "colab": {}
      },
      "cell_type": "code",
      "source": [
        "test_sulmyung = test_sulmyung.to_list"
      ],
      "execution_count": 0,
      "outputs": []
    },
    {
      "metadata": {
        "id": "M7mieH5DKw5Q",
        "colab_type": "code",
        "colab": {
          "base_uri": "https://localhost:8080/",
          "height": 35
        },
        "outputId": "a10af43d-1934-4bbd-e2a1-55ec18d1253a"
      },
      "cell_type": "code",
      "source": [
        ""
      ],
      "execution_count": 97,
      "outputs": [
        {
          "output_type": "execute_result",
          "data": {
            "text/plain": [
              "method"
            ]
          },
          "metadata": {
            "tags": []
          },
          "execution_count": 97
        }
      ]
    }
  ]
}