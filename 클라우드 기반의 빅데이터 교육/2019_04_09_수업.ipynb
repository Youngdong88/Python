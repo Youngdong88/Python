{
  "nbformat": 4,
  "nbformat_minor": 0,
  "metadata": {
    "colab": {
      "name": "2019-04-09 수업.ipynb",
      "version": "0.3.2",
      "provenance": [],
      "include_colab_link": true
    },
    "kernelspec": {
      "name": "python3",
      "display_name": "Python 3"
    }
  },
  "cells": [
    {
      "cell_type": "markdown",
      "metadata": {
        "id": "view-in-github",
        "colab_type": "text"
      },
      "source": [
        "<a href=\"https://colab.research.google.com/github/dongdong-e/Python/blob/master/%ED%81%B4%EB%9D%BC%EC%9A%B0%EB%93%9C%20%EA%B8%B0%EB%B0%98%EC%9D%98%20%EB%B9%85%EB%8D%B0%EC%9D%B4%ED%84%B0%20%EA%B5%90%EC%9C%A1/2019_04_09_%EC%88%98%EC%97%85.ipynb\" target=\"_parent\"><img src=\"https://colab.research.google.com/assets/colab-badge.svg\" alt=\"Open In Colab\"/></a>"
      ]
    },
    {
      "metadata": {
        "id": "rYryqyuAf69-",
        "colab_type": "code",
        "colab": {
          "base_uri": "https://localhost:8080/",
          "height": 215
        },
        "outputId": "7900b242-404a-4d22-e19b-9e9dee23688e"
      },
      "cell_type": "code",
      "source": [
        "!pip install surprise\n",
        "!pip install scikit-surprise"
      ],
      "execution_count": 71,
      "outputs": [
        {
          "output_type": "stream",
          "text": [
            "Requirement already satisfied: surprise in /usr/local/lib/python3.6/dist-packages (0.1)\n",
            "Requirement already satisfied: scikit-surprise in /usr/local/lib/python3.6/dist-packages (from surprise) (1.0.6)\n",
            "Requirement already satisfied: six>=1.10.0 in /usr/local/lib/python3.6/dist-packages (from scikit-surprise->surprise) (1.11.0)\n",
            "Requirement already satisfied: scipy>=1.0.0 in /usr/local/lib/python3.6/dist-packages (from scikit-surprise->surprise) (1.1.0)\n",
            "Requirement already satisfied: joblib>=0.11 in /usr/local/lib/python3.6/dist-packages (from scikit-surprise->surprise) (0.12.5)\n",
            "Requirement already satisfied: numpy>=1.11.2 in /usr/local/lib/python3.6/dist-packages (from scikit-surprise->surprise) (1.14.6)\n",
            "Requirement already satisfied: scikit-surprise in /usr/local/lib/python3.6/dist-packages (1.0.6)\n",
            "Requirement already satisfied: scipy>=1.0.0 in /usr/local/lib/python3.6/dist-packages (from scikit-surprise) (1.1.0)\n",
            "Requirement already satisfied: six>=1.10.0 in /usr/local/lib/python3.6/dist-packages (from scikit-surprise) (1.11.0)\n",
            "Requirement already satisfied: joblib>=0.11 in /usr/local/lib/python3.6/dist-packages (from scikit-surprise) (0.12.5)\n",
            "Requirement already satisfied: numpy>=1.11.2 in /usr/local/lib/python3.6/dist-packages (from scikit-surprise) (1.14.6)\n"
          ],
          "name": "stdout"
        }
      ]
    },
    {
      "metadata": {
        "id": "69VMDyT2dDA0",
        "colab_type": "code",
        "colab": {}
      },
      "cell_type": "code",
      "source": [
        "import os\n",
        "import pandas as pd\n",
        "from surprise import SVD\n",
        "from surprise import Dataset"
      ],
      "execution_count": 0,
      "outputs": []
    },
    {
      "metadata": {
        "id": "UHvpM5C9gVYJ",
        "colab_type": "code",
        "colab": {}
      },
      "cell_type": "code",
      "source": [
        "df = Dataset.load_builtin('ml-100k')"
      ],
      "execution_count": 0,
      "outputs": []
    },
    {
      "metadata": {
        "id": "RPmLWuXxgapx",
        "colab_type": "code",
        "colab": {}
      },
      "cell_type": "code",
      "source": [
        "data = pd.DataFrame(df.raw_ratings, \\\n",
        "                   columns = ['user', 'item', 'rate', 'id'])"
      ],
      "execution_count": 0,
      "outputs": []
    },
    {
      "metadata": {
        "id": "G42ZGMCMgib3",
        "colab_type": "code",
        "colab": {}
      },
      "cell_type": "code",
      "source": [
        "train_data = df.build_full_trainset()"
      ],
      "execution_count": 0,
      "outputs": []
    },
    {
      "metadata": {
        "id": "l3FIuK4YglIq",
        "colab_type": "code",
        "colab": {
          "base_uri": "https://localhost:8080/",
          "height": 71
        },
        "outputId": "ab666894-3fb2-4f7b-8074-814ad7c7b68a"
      },
      "cell_type": "code",
      "source": [
        "algo = SVD()\n",
        "algo.train(train_data)"
      ],
      "execution_count": 76,
      "outputs": [
        {
          "output_type": "stream",
          "text": [
            "/usr/local/lib/python3.6/dist-packages/surprise/prediction_algorithms/algo_base.py:51: UserWarning: train() is deprecated. Use fit() instead\n",
            "  warnings.warn('train() is deprecated. Use fit() instead', UserWarning)\n"
          ],
          "name": "stderr"
        },
        {
          "output_type": "execute_result",
          "data": {
            "text/plain": [
              "<surprise.prediction_algorithms.matrix_factorization.SVD at 0x7f2705b847b8>"
            ]
          },
          "metadata": {
            "tags": []
          },
          "execution_count": 76
        }
      ]
    },
    {
      "metadata": {
        "id": "cGOnp2QvhefW",
        "colab_type": "code",
        "colab": {}
      },
      "cell_type": "code",
      "source": [
        "test_data = train_data.build_testset()\n",
        "predicts = algo.test(test_data)\n",
        "from surprise import accuracy"
      ],
      "execution_count": 0,
      "outputs": []
    },
    {
      "metadata": {
        "id": "25oxjXuthlkg",
        "colab_type": "code",
        "colab": {
          "base_uri": "https://localhost:8080/",
          "height": 53
        },
        "outputId": "faa5bb9b-5b2c-4cee-bdf6-6238b81524a2"
      },
      "cell_type": "code",
      "source": [
        "accuracy.rmse(predicts)"
      ],
      "execution_count": 78,
      "outputs": [
        {
          "output_type": "stream",
          "text": [
            "RMSE: 0.6782\n"
          ],
          "name": "stdout"
        },
        {
          "output_type": "execute_result",
          "data": {
            "text/plain": [
              "0.6781695257581529"
            ]
          },
          "metadata": {
            "tags": []
          },
          "execution_count": 78
        }
      ]
    },
    {
      "metadata": {
        "id": "0S9KNIkaiwFP",
        "colab_type": "code",
        "colab": {}
      },
      "cell_type": "code",
      "source": [
        "from collections import defaultdict\n",
        "def get_top_n(predictions, n = 0):\n",
        "    top_n = defaultdict(list)\n",
        "    \n",
        "    for uid, iid, true_r, est, _ in predictions:\n",
        "        top_n[uid].append((iid, est))\n",
        "    for uid, user_ratings in top_n.items():\n",
        "        user_ratings.sort(key = lambda x: x[1], reverse = True)\n",
        "        top_n[uid] = user_ratings[:n]\n",
        "    return top_n"
      ],
      "execution_count": 0,
      "outputs": []
    },
    {
      "metadata": {
        "id": "1I49NHv3jyGz",
        "colab_type": "code",
        "colab": {}
      },
      "cell_type": "code",
      "source": [
        "rResult = get_top_n(predicts)"
      ],
      "execution_count": 0,
      "outputs": []
    },
    {
      "metadata": {
        "id": "S-2yM8Omj6Hx",
        "colab_type": "code",
        "colab": {
          "base_uri": "https://localhost:8080/",
          "height": 16991
        },
        "outputId": "1a172d19-3d19-407a-de8b-59499661dfed"
      },
      "cell_type": "code",
      "source": [
        "for uid, user_ratings in rResult.items():\n",
        "    print(uid, [iid for (iid,_) in user_ratings])"
      ],
      "execution_count": 81,
      "outputs": [
        {
          "output_type": "stream",
          "text": [
            "196 []\n",
            "186 []\n",
            "22 []\n",
            "244 []\n",
            "166 []\n",
            "298 []\n",
            "115 []\n",
            "253 []\n",
            "305 []\n",
            "6 []\n",
            "62 []\n",
            "286 []\n",
            "200 []\n",
            "210 []\n",
            "224 []\n",
            "303 []\n",
            "122 []\n",
            "194 []\n",
            "291 []\n",
            "234 []\n",
            "119 []\n",
            "167 []\n",
            "299 []\n",
            "308 []\n",
            "95 []\n",
            "38 []\n",
            "102 []\n",
            "63 []\n",
            "160 []\n",
            "50 []\n",
            "301 []\n",
            "225 []\n",
            "290 []\n",
            "97 []\n",
            "157 []\n",
            "181 []\n",
            "278 []\n",
            "276 []\n",
            "7 []\n",
            "10 []\n",
            "284 []\n",
            "201 []\n",
            "287 []\n",
            "246 []\n",
            "242 []\n",
            "249 []\n",
            "99 []\n",
            "178 []\n",
            "251 []\n",
            "81 []\n",
            "260 []\n",
            "25 []\n",
            "59 []\n",
            "72 []\n",
            "87 []\n",
            "42 []\n",
            "292 []\n",
            "20 []\n",
            "13 []\n",
            "138 []\n",
            "60 []\n",
            "57 []\n",
            "223 []\n",
            "189 []\n",
            "243 []\n",
            "92 []\n",
            "241 []\n",
            "254 []\n",
            "293 []\n",
            "127 []\n",
            "222 []\n",
            "267 []\n",
            "11 []\n",
            "8 []\n",
            "162 []\n",
            "279 []\n",
            "145 []\n",
            "28 []\n",
            "135 []\n",
            "32 []\n",
            "90 []\n",
            "216 []\n",
            "250 []\n",
            "271 []\n",
            "265 []\n",
            "198 []\n",
            "168 []\n",
            "110 []\n",
            "58 []\n",
            "237 []\n",
            "94 []\n",
            "128 []\n",
            "44 []\n",
            "264 []\n",
            "41 []\n",
            "82 []\n",
            "262 []\n",
            "174 []\n",
            "43 []\n",
            "84 []\n",
            "269 []\n",
            "259 []\n",
            "85 []\n",
            "213 []\n",
            "121 []\n",
            "49 []\n",
            "155 []\n",
            "68 []\n",
            "172 []\n",
            "19 []\n",
            "268 []\n",
            "5 []\n",
            "80 []\n",
            "66 []\n",
            "18 []\n",
            "26 []\n",
            "130 []\n",
            "256 []\n",
            "1 []\n",
            "56 []\n",
            "15 []\n",
            "207 []\n",
            "232 []\n",
            "52 []\n",
            "161 []\n",
            "148 []\n",
            "125 []\n",
            "83 []\n",
            "272 []\n",
            "151 []\n",
            "54 []\n",
            "16 []\n",
            "91 []\n",
            "294 []\n",
            "229 []\n",
            "36 []\n",
            "70 []\n",
            "14 []\n",
            "295 []\n",
            "233 []\n",
            "214 []\n",
            "192 []\n",
            "100 []\n",
            "307 []\n",
            "297 []\n",
            "193 []\n",
            "113 []\n",
            "275 []\n",
            "219 []\n",
            "218 []\n",
            "123 []\n",
            "158 []\n",
            "302 []\n",
            "23 []\n",
            "296 []\n",
            "33 []\n",
            "154 []\n",
            "77 []\n",
            "270 []\n",
            "187 []\n",
            "170 []\n",
            "101 []\n",
            "184 []\n",
            "112 []\n",
            "133 []\n",
            "215 []\n",
            "69 []\n",
            "104 []\n",
            "240 []\n",
            "144 []\n",
            "191 []\n",
            "61 []\n",
            "142 []\n",
            "177 []\n",
            "203 []\n",
            "21 []\n",
            "197 []\n",
            "134 []\n",
            "180 []\n",
            "236 []\n",
            "263 []\n",
            "109 []\n",
            "64 []\n",
            "114 []\n",
            "239 []\n",
            "117 []\n",
            "65 []\n",
            "137 []\n",
            "257 []\n",
            "111 []\n",
            "285 []\n",
            "96 []\n",
            "116 []\n",
            "73 []\n",
            "221 []\n",
            "235 []\n",
            "164 []\n",
            "281 []\n",
            "182 []\n",
            "129 []\n",
            "45 []\n",
            "131 []\n",
            "230 []\n",
            "126 []\n",
            "231 []\n",
            "280 []\n",
            "288 []\n",
            "152 []\n",
            "217 []\n",
            "79 []\n",
            "75 []\n",
            "245 []\n",
            "282 []\n",
            "78 []\n",
            "118 []\n",
            "283 []\n",
            "171 []\n",
            "107 []\n",
            "226 []\n",
            "306 []\n",
            "173 []\n",
            "185 []\n",
            "150 []\n",
            "274 []\n",
            "188 []\n",
            "48 []\n",
            "311 []\n",
            "165 []\n",
            "208 []\n",
            "2 []\n",
            "205 []\n",
            "248 []\n",
            "93 []\n",
            "159 []\n",
            "146 []\n",
            "29 []\n",
            "156 []\n",
            "37 []\n",
            "141 []\n",
            "195 []\n",
            "108 []\n",
            "47 []\n",
            "255 []\n",
            "89 []\n",
            "140 []\n",
            "190 []\n",
            "24 []\n",
            "17 []\n",
            "313 []\n",
            "53 []\n",
            "124 []\n",
            "149 []\n",
            "176 []\n",
            "106 []\n",
            "312 []\n",
            "175 []\n",
            "153 []\n",
            "220 []\n",
            "143 []\n",
            "199 []\n",
            "202 []\n",
            "277 []\n",
            "206 []\n",
            "76 []\n",
            "314 []\n",
            "136 []\n",
            "179 []\n",
            "4 []\n",
            "304 []\n",
            "3 []\n",
            "227 []\n",
            "252 []\n",
            "212 []\n",
            "310 []\n",
            "35 []\n",
            "147 []\n",
            "105 []\n",
            "34 []\n",
            "71 []\n",
            "51 []\n",
            "204 []\n",
            "315 []\n",
            "31 []\n",
            "316 []\n",
            "103 []\n",
            "318 []\n",
            "30 []\n",
            "120 []\n",
            "46 []\n",
            "289 []\n",
            "209 []\n",
            "261 []\n",
            "88 []\n",
            "9 []\n",
            "247 []\n",
            "321 []\n",
            "266 []\n",
            "74 []\n",
            "238 []\n",
            "319 []\n",
            "323 []\n",
            "67 []\n",
            "211 []\n",
            "98 []\n",
            "12 []\n",
            "40 []\n",
            "258 []\n",
            "228 []\n",
            "325 []\n",
            "320 []\n",
            "326 []\n",
            "327 []\n",
            "183 []\n",
            "328 []\n",
            "322 []\n",
            "330 []\n",
            "27 []\n",
            "331 []\n",
            "332 []\n",
            "329 []\n",
            "86 []\n",
            "139 []\n",
            "300 []\n",
            "163 []\n",
            "333 []\n",
            "334 []\n",
            "39 []\n",
            "324 []\n",
            "132 []\n",
            "336 []\n",
            "335 []\n",
            "169 []\n",
            "338 []\n",
            "339 []\n",
            "309 []\n",
            "342 []\n",
            "340 []\n",
            "317 []\n",
            "341 []\n",
            "343 []\n",
            "344 []\n",
            "345 []\n",
            "346 []\n",
            "347 []\n",
            "273 []\n",
            "55 []\n",
            "349 []\n",
            "348 []\n",
            "354 []\n",
            "351 []\n",
            "358 []\n",
            "352 []\n",
            "360 []\n",
            "363 []\n",
            "355 []\n",
            "362 []\n",
            "357 []\n",
            "356 []\n",
            "361 []\n",
            "365 []\n",
            "350 []\n",
            "367 []\n",
            "368 []\n",
            "371 []\n",
            "373 []\n",
            "370 []\n",
            "374 []\n",
            "372 []\n",
            "337 []\n",
            "378 []\n",
            "366 []\n",
            "377 []\n",
            "375 []\n",
            "359 []\n",
            "379 []\n",
            "380 []\n",
            "381 []\n",
            "385 []\n",
            "382 []\n",
            "387 []\n",
            "364 []\n",
            "369 []\n",
            "388 []\n",
            "386 []\n",
            "389 []\n",
            "383 []\n",
            "390 []\n",
            "393 []\n",
            "392 []\n",
            "376 []\n",
            "394 []\n",
            "391 []\n",
            "398 []\n",
            "397 []\n",
            "399 []\n",
            "396 []\n",
            "401 []\n",
            "402 []\n",
            "384 []\n",
            "395 []\n",
            "353 []\n",
            "403 []\n",
            "405 []\n",
            "400 []\n",
            "406 []\n",
            "407 []\n",
            "409 []\n",
            "404 []\n",
            "413 []\n",
            "416 []\n",
            "408 []\n",
            "410 []\n",
            "411 []\n",
            "417 []\n",
            "412 []\n",
            "420 []\n",
            "422 []\n",
            "425 []\n",
            "419 []\n",
            "415 []\n",
            "423 []\n",
            "429 []\n",
            "428 []\n",
            "427 []\n",
            "418 []\n",
            "424 []\n",
            "432 []\n",
            "421 []\n",
            "435 []\n",
            "433 []\n",
            "426 []\n",
            "436 []\n",
            "430 []\n",
            "434 []\n",
            "437 []\n",
            "438 []\n",
            "431 []\n",
            "442 []\n",
            "440 []\n",
            "445 []\n",
            "447 []\n",
            "449 []\n",
            "450 []\n",
            "446 []\n",
            "439 []\n",
            "451 []\n",
            "452 []\n",
            "454 []\n",
            "453 []\n",
            "414 []\n",
            "455 []\n",
            "444 []\n",
            "448 []\n",
            "457 []\n",
            "456 []\n",
            "458 []\n",
            "462 []\n",
            "459 []\n",
            "460 []\n",
            "461 []\n",
            "467 []\n",
            "468 []\n",
            "466 []\n",
            "472 []\n",
            "465 []\n",
            "463 []\n",
            "471 []\n",
            "474 []\n",
            "469 []\n",
            "464 []\n",
            "476 []\n",
            "478 []\n",
            "473 []\n",
            "470 []\n",
            "480 []\n",
            "441 []\n",
            "479 []\n",
            "484 []\n",
            "486 []\n",
            "487 []\n",
            "482 []\n",
            "481 []\n",
            "492 []\n",
            "493 []\n",
            "490 []\n",
            "489 []\n",
            "483 []\n",
            "496 []\n",
            "494 []\n",
            "495 []\n",
            "477 []\n",
            "497 []\n",
            "488 []\n",
            "498 []\n",
            "499 []\n",
            "491 []\n",
            "500 []\n",
            "502 []\n",
            "503 []\n",
            "504 []\n",
            "505 []\n",
            "506 []\n",
            "443 []\n",
            "507 []\n",
            "514 []\n",
            "508 []\n",
            "511 []\n",
            "515 []\n",
            "512 []\n",
            "513 []\n",
            "475 []\n",
            "523 []\n",
            "518 []\n",
            "509 []\n",
            "516 []\n",
            "510 []\n",
            "524 []\n",
            "501 []\n",
            "525 []\n",
            "521 []\n",
            "520 []\n",
            "519 []\n",
            "528 []\n",
            "532 []\n",
            "530 []\n",
            "531 []\n",
            "529 []\n",
            "517 []\n",
            "527 []\n",
            "485 []\n",
            "533 []\n",
            "535 []\n",
            "536 []\n",
            "526 []\n",
            "537 []\n",
            "534 []\n",
            "541 []\n",
            "538 []\n",
            "542 []\n",
            "545 []\n",
            "539 []\n",
            "547 []\n",
            "543 []\n",
            "548 []\n",
            "546 []\n",
            "522 []\n",
            "551 []\n",
            "544 []\n",
            "553 []\n",
            "552 []\n",
            "540 []\n",
            "554 []\n",
            "550 []\n",
            "556 []\n",
            "559 []\n",
            "560 []\n",
            "561 []\n",
            "563 []\n",
            "566 []\n",
            "557 []\n",
            "558 []\n",
            "564 []\n",
            "565 []\n",
            "573 []\n",
            "549 []\n",
            "567 []\n",
            "569 []\n",
            "562 []\n",
            "576 []\n",
            "577 []\n",
            "579 []\n",
            "574 []\n",
            "555 []\n",
            "572 []\n",
            "575 []\n",
            "584 []\n",
            "588 []\n",
            "587 []\n",
            "568 []\n",
            "586 []\n",
            "585 []\n",
            "582 []\n",
            "591 []\n",
            "581 []\n",
            "592 []\n",
            "580 []\n",
            "590 []\n",
            "593 []\n",
            "583 []\n",
            "596 []\n",
            "570 []\n",
            "599 []\n",
            "589 []\n",
            "594 []\n",
            "597 []\n",
            "578 []\n",
            "601 []\n",
            "602 []\n",
            "600 []\n",
            "605 []\n",
            "603 []\n",
            "595 []\n",
            "606 []\n",
            "608 []\n",
            "607 []\n",
            "610 []\n",
            "611 []\n",
            "617 []\n",
            "618 []\n",
            "614 []\n",
            "609 []\n",
            "615 []\n",
            "616 []\n",
            "620 []\n",
            "571 []\n",
            "619 []\n",
            "613 []\n",
            "622 []\n",
            "621 []\n",
            "604 []\n",
            "624 []\n",
            "612 []\n",
            "627 []\n",
            "623 []\n",
            "628 []\n",
            "625 []\n",
            "629 []\n",
            "633 []\n",
            "632 []\n",
            "631 []\n",
            "634 []\n",
            "639 []\n",
            "630 []\n",
            "642 []\n",
            "637 []\n",
            "640 []\n",
            "626 []\n",
            "643 []\n",
            "598 []\n",
            "638 []\n",
            "635 []\n",
            "644 []\n",
            "636 []\n",
            "645 []\n",
            "648 []\n",
            "647 []\n",
            "650 []\n",
            "651 []\n",
            "654 []\n",
            "653 []\n",
            "655 []\n",
            "649 []\n",
            "658 []\n",
            "656 []\n",
            "660 []\n",
            "659 []\n",
            "646 []\n",
            "663 []\n",
            "664 []\n",
            "657 []\n",
            "665 []\n",
            "666 []\n",
            "661 []\n",
            "662 []\n",
            "667 []\n",
            "641 []\n",
            "668 []\n",
            "673 []\n",
            "671 []\n",
            "669 []\n",
            "676 []\n",
            "674 []\n",
            "652 []\n",
            "677 []\n",
            "682 []\n",
            "679 []\n",
            "684 []\n",
            "685 []\n",
            "683 []\n",
            "691 []\n",
            "672 []\n",
            "692 []\n",
            "690 []\n",
            "689 []\n",
            "686 []\n",
            "693 []\n",
            "688 []\n",
            "697 []\n",
            "698 []\n",
            "670 []\n",
            "694 []\n",
            "680 []\n",
            "705 []\n",
            "701 []\n",
            "699 []\n",
            "704 []\n",
            "707 []\n",
            "700 []\n",
            "687 []\n",
            "695 []\n",
            "675 []\n",
            "708 []\n",
            "709 []\n",
            "711 []\n",
            "710 []\n",
            "712 []\n",
            "715 []\n",
            "713 []\n",
            "716 []\n",
            "681 []\n",
            "678 []\n",
            "719 []\n",
            "702 []\n",
            "721 []\n",
            "714 []\n",
            "717 []\n",
            "718 []\n",
            "696 []\n",
            "722 []\n",
            "724 []\n",
            "727 []\n",
            "725 []\n",
            "706 []\n",
            "720 []\n",
            "729 []\n",
            "726 []\n",
            "728 []\n",
            "703 []\n",
            "738 []\n",
            "736 []\n",
            "734 []\n",
            "730 []\n",
            "743 []\n",
            "742 []\n",
            "737 []\n",
            "733 []\n",
            "745 []\n",
            "740 []\n",
            "735 []\n",
            "747 []\n",
            "723 []\n",
            "739 []\n",
            "749 []\n",
            "748 []\n",
            "746 []\n",
            "731 []\n",
            "750 []\n",
            "741 []\n",
            "751 []\n",
            "756 []\n",
            "757 []\n",
            "752 []\n",
            "758 []\n",
            "732 []\n",
            "762 []\n",
            "744 []\n",
            "754 []\n",
            "753 []\n",
            "763 []\n",
            "764 []\n",
            "767 []\n",
            "769 []\n",
            "755 []\n",
            "771 []\n",
            "768 []\n",
            "773 []\n",
            "765 []\n",
            "772 []\n",
            "766 []\n",
            "774 []\n",
            "760 []\n",
            "761 []\n",
            "777 []\n",
            "759 []\n",
            "776 []\n",
            "780 []\n",
            "779 []\n",
            "778 []\n",
            "782 []\n",
            "786 []\n",
            "784 []\n",
            "770 []\n",
            "788 []\n",
            "789 []\n",
            "790 []\n",
            "787 []\n",
            "783 []\n",
            "785 []\n",
            "794 []\n",
            "781 []\n",
            "796 []\n",
            "795 []\n",
            "793 []\n",
            "798 []\n",
            "791 []\n",
            "802 []\n",
            "800 []\n",
            "804 []\n",
            "803 []\n",
            "775 []\n",
            "792 []\n",
            "799 []\n",
            "805 []\n",
            "806 []\n",
            "807 []\n",
            "797 []\n",
            "801 []\n",
            "809 []\n",
            "815 []\n",
            "817 []\n",
            "821 []\n",
            "818 []\n",
            "814 []\n",
            "812 []\n",
            "823 []\n",
            "825 []\n",
            "827 []\n",
            "829 []\n",
            "811 []\n",
            "830 []\n",
            "826 []\n",
            "831 []\n",
            "819 []\n",
            "828 []\n",
            "808 []\n",
            "835 []\n",
            "833 []\n",
            "836 []\n",
            "816 []\n",
            "838 []\n",
            "839 []\n",
            "840 []\n",
            "832 []\n",
            "810 []\n",
            "844 []\n",
            "843 []\n",
            "834 []\n",
            "846 []\n",
            "837 []\n",
            "813 []\n",
            "842 []\n",
            "847 []\n",
            "848 []\n",
            "822 []\n",
            "852 []\n",
            "851 []\n",
            "849 []\n",
            "854 []\n",
            "850 []\n",
            "858 []\n",
            "853 []\n",
            "855 []\n",
            "824 []\n",
            "845 []\n",
            "841 []\n",
            "859 []\n",
            "862 []\n",
            "856 []\n",
            "820 []\n",
            "863 []\n",
            "860 []\n",
            "857 []\n",
            "864 []\n",
            "865 []\n",
            "868 []\n",
            "867 []\n",
            "861 []\n",
            "870 []\n",
            "871 []\n",
            "875 []\n",
            "876 []\n",
            "872 []\n",
            "866 []\n",
            "877 []\n",
            "873 []\n",
            "880 []\n",
            "878 []\n",
            "869 []\n",
            "881 []\n",
            "879 []\n",
            "883 []\n",
            "882 []\n",
            "884 []\n",
            "886 []\n",
            "885 []\n",
            "889 []\n",
            "874 []\n",
            "892 []\n",
            "890 []\n",
            "893 []\n",
            "887 []\n",
            "891 []\n",
            "894 []\n",
            "896 []\n",
            "897 []\n",
            "901 []\n",
            "899 []\n",
            "903 []\n",
            "904 []\n",
            "907 []\n",
            "905 []\n",
            "902 []\n",
            "898 []\n",
            "895 []\n",
            "906 []\n",
            "900 []\n",
            "908 []\n",
            "916 []\n",
            "911 []\n",
            "912 []\n",
            "914 []\n",
            "918 []\n",
            "919 []\n",
            "921 []\n",
            "910 []\n",
            "913 []\n",
            "915 []\n",
            "922 []\n",
            "923 []\n",
            "928 []\n",
            "927 []\n",
            "924 []\n",
            "929 []\n",
            "931 []\n",
            "917 []\n",
            "932 []\n",
            "909 []\n",
            "934 []\n",
            "933 []\n",
            "935 []\n",
            "938 []\n",
            "940 []\n",
            "888 []\n",
            "925 []\n",
            "942 []\n",
            "937 []\n",
            "926 []\n",
            "943 []\n",
            "939 []\n",
            "936 []\n",
            "930 []\n",
            "920 []\n",
            "941 []\n"
          ],
          "name": "stdout"
        }
      ]
    },
    {
      "metadata": {
        "id": "EBI2QqJctKqv",
        "colab_type": "text"
      },
      "cell_type": "markdown",
      "source": [
        "---"
      ]
    },
    {
      "metadata": {
        "id": "8iDGAsmhuDCw",
        "colab_type": "text"
      },
      "cell_type": "markdown",
      "source": [
        "## **Tensorflow (텐서플로우)**"
      ]
    },
    {
      "metadata": {
        "id": "6cggAZTCtLO0",
        "colab_type": "code",
        "colab": {}
      },
      "cell_type": "code",
      "source": [
        "# 아나콘다 기반에서 tensorflow 셋팅하는 방법\n",
        "# conda create --name tensorflow python = 3.7\n",
        "# activate tensorflow\n",
        "# pip install tensorflow"
      ],
      "execution_count": 0,
      "outputs": []
    },
    {
      "metadata": {
        "id": "AVh7puT0vadH",
        "colab_type": "code",
        "colab": {}
      },
      "cell_type": "code",
      "source": [
        "import tensorflow as tf\n",
        "import numpy as np\n",
        "import matplotlib.pyplot as plt"
      ],
      "execution_count": 0,
      "outputs": []
    },
    {
      "metadata": {
        "id": "L3DPDjGmXtUD",
        "colab_type": "code",
        "colab": {}
      },
      "cell_type": "code",
      "source": [
        "np.random.seed(101)\n",
        "tf.set_random_seed(101)"
      ],
      "execution_count": 0,
      "outputs": []
    },
    {
      "metadata": {
        "id": "itibO-c2XuLi",
        "colab_type": "code",
        "colab": {}
      },
      "cell_type": "code",
      "source": [
        "a = tf.constant(5.0)\n",
        "b = tf.constant(6.0)\n",
        "c = a * b"
      ],
      "execution_count": 0,
      "outputs": []
    },
    {
      "metadata": {
        "id": "jiA8BlpaX2VF",
        "colab_type": "code",
        "colab": {
          "base_uri": "https://localhost:8080/",
          "height": 35
        },
        "outputId": "c00f49b4-4a97-4255-be97-fad04a874831"
      },
      "cell_type": "code",
      "source": [
        "sees = tf.Session()\n",
        "output_c = sess.run(c)\n",
        "sess.run(a), sess.run(b), sess.run(c)"
      ],
      "execution_count": 86,
      "outputs": [
        {
          "output_type": "execute_result",
          "data": {
            "text/plain": [
              "(5.0, 6.0, 30.0)"
            ]
          },
          "metadata": {
            "tags": []
          },
          "execution_count": 86
        }
      ]
    },
    {
      "metadata": {
        "id": "LKnyYsStYXh9",
        "colab_type": "code",
        "colab": {}
      },
      "cell_type": "code",
      "source": [
        "e = tf.constant(1.0)"
      ],
      "execution_count": 0,
      "outputs": []
    },
    {
      "metadata": {
        "id": "ribb19P8Ybzd",
        "colab_type": "code",
        "colab": {
          "base_uri": "https://localhost:8080/",
          "height": 35
        },
        "outputId": "12010589-2cdc-4bbc-e6b7-09619b2093ab"
      },
      "cell_type": "code",
      "source": [
        "# Placeholder\n",
        "a1 = tf.placeholder(tf.float32)\n",
        "b1 = tf.placeholder(tf.float32)\n",
        "c1 = a1 * b1\n",
        "\n",
        "output_c1 = sess.run(c1, {a1: [1, 2], b1: [2, 4]})\n",
        "output_c1"
      ],
      "execution_count": 88,
      "outputs": [
        {
          "output_type": "execute_result",
          "data": {
            "text/plain": [
              "array([2., 8.], dtype=float32)"
            ]
          },
          "metadata": {
            "tags": []
          },
          "execution_count": 88
        }
      ]
    },
    {
      "metadata": {
        "id": "UV4IBB-_Yi7h",
        "colab_type": "code",
        "colab": {
          "base_uri": "https://localhost:8080/",
          "height": 35
        },
        "outputId": "fa6c4124-010e-4402-aac8-71f4009ed9b0"
      },
      "cell_type": "code",
      "source": [
        "# Variables\n",
        "d1 = tf.Variable([0, 8], dtype = tf.float32)\n",
        "d1"
      ],
      "execution_count": 89,
      "outputs": [
        {
          "output_type": "execute_result",
          "data": {
            "text/plain": [
              "<tf.Variable 'Variable_11:0' shape=(2,) dtype=float32_ref>"
            ]
          },
          "metadata": {
            "tags": []
          },
          "execution_count": 89
        }
      ]
    },
    {
      "metadata": {
        "id": "bWeFJ-eTaoli",
        "colab_type": "code",
        "colab": {}
      },
      "cell_type": "code",
      "source": [
        "# Linear Regression -> Y = b + wX\n",
        "w = tf.Variable([0.4], dtype = tf.float32)\n",
        "b = tf.Variable([-0.4], dtype = tf.float32)\n",
        "\n",
        "X = tf.placeholder(tf.float32)"
      ],
      "execution_count": 0,
      "outputs": []
    },
    {
      "metadata": {
        "id": "zCCW3c61Z2xg",
        "colab_type": "code",
        "colab": {}
      },
      "cell_type": "code",
      "source": [
        "linear_mode = w*X + b"
      ],
      "execution_count": 0,
      "outputs": []
    },
    {
      "metadata": {
        "id": "__9-5dPKbiaf",
        "colab_type": "code",
        "colab": {}
      },
      "cell_type": "code",
      "source": [
        "sess = tf.Session()\n",
        "init = tf.global_variables_initializer()\n",
        "sess.run(init)"
      ],
      "execution_count": 0,
      "outputs": []
    },
    {
      "metadata": {
        "id": "lyC0PM7zbtKh",
        "colab_type": "code",
        "colab": {
          "base_uri": "https://localhost:8080/",
          "height": 35
        },
        "outputId": "7ff5de92-1cd6-44e2-f27b-f999627c6067"
      },
      "cell_type": "code",
      "source": [
        "sess.run(linear_mode, {X: [1, 2, 3, 4]})"
      ],
      "execution_count": 93,
      "outputs": [
        {
          "output_type": "execute_result",
          "data": {
            "text/plain": [
              "array([0.       , 0.4      , 0.8000001, 1.2      ], dtype=float32)"
            ]
          },
          "metadata": {
            "tags": []
          },
          "execution_count": 93
        }
      ]
    },
    {
      "metadata": {
        "id": "I2J03WPpkhYL",
        "colab_type": "code",
        "colab": {
          "base_uri": "https://localhost:8080/",
          "height": 35
        },
        "outputId": "f0c0644b-c807-4dc5-a771-ce6b8890f7ad"
      },
      "cell_type": "code",
      "source": [
        "!pip install tensorboardcolab"
      ],
      "execution_count": 94,
      "outputs": [
        {
          "output_type": "stream",
          "text": [
            "Requirement already satisfied: tensorboardcolab in /usr/local/lib/python3.6/dist-packages (0.0.22)\n"
          ],
          "name": "stdout"
        }
      ]
    },
    {
      "metadata": {
        "id": "DAug53m7kkbH",
        "colab_type": "code",
        "colab": {
          "base_uri": "https://localhost:8080/",
          "height": 305
        },
        "outputId": "023bdf82-8f63-4aba-b679-36b6d63d25c7"
      },
      "cell_type": "code",
      "source": [
        "!pip install tensorboardcolab\n",
        "LOG_DIR = 'drive/my-drive'\n",
        "\t\n",
        "!wget https://bin.equinox.io/c/4VmDzA7iaHb/ngrok-stable-linux-amd64.zip\n",
        "!unzip ngrok-stable-linux-amd64.zip\n",
        "\t\n",
        "import os\n",
        "if not os.path.exists(LOG_DIR):\n",
        "    os.makedirs(LOG_DIR)\n",
        "\t  \n",
        "get_ipython().system_raw(\n",
        "    'tensorboard --logdir {} --host 0.0.0.0 --port 6006 &'\n",
        "    .format(LOG_DIR))\n",
        "\t\n",
        "get_ipython().system_raw('./ngrok http 6006 &')\n",
        "\t\n",
        "!curl -s http://localhost:4040/api/tunnels | python3 -c \\\n",
        "        \"import sys, json; print(json.load(sys.stdin)['tunnels'][0]['public_url'])\""
      ],
      "execution_count": 103,
      "outputs": [
        {
          "output_type": "stream",
          "text": [
            "Requirement already satisfied: tensorboardcolab in /usr/local/lib/python3.6/dist-packages (0.0.22)\n",
            "--2019-04-09 05:56:38--  https://bin.equinox.io/c/4VmDzA7iaHb/ngrok-stable-linux-amd64.zip\n",
            "Resolving bin.equinox.io (bin.equinox.io)... 34.206.9.96, 52.201.75.180, 54.174.228.92, ...\n",
            "Connecting to bin.equinox.io (bin.equinox.io)|34.206.9.96|:443... connected.\n",
            "HTTP request sent, awaiting response... 200 OK\n",
            "Length: 14977695 (14M) [application/octet-stream]\n",
            "Saving to: ‘ngrok-stable-linux-amd64.zip.7’\n",
            "\n",
            "ngrok-stable-linux- 100%[===================>]  14.28M  87.6MB/s    in 0.2s    \n",
            "\n",
            "2019-04-09 05:56:38 (87.6 MB/s) - ‘ngrok-stable-linux-amd64.zip.7’ saved [14977695/14977695]\n",
            "\n",
            "Archive:  ngrok-stable-linux-amd64.zip\n",
            "replace ngrok? [y]es, [n]o, [A]ll, [N]one, [r]ename: y\n",
            "  inflating: ngrok                   \n",
            "https://1ae8d042.ngrok.io\n"
          ],
          "name": "stdout"
        }
      ]
    },
    {
      "metadata": {
        "id": "M8PJn4Xdr-Zm",
        "colab_type": "code",
        "colab": {}
      },
      "cell_type": "code",
      "source": [
        "a = tf.constant(3.0, dtype=tf.float32)\n",
        "b = tf.constant(4.0) \n",
        "total = a + b"
      ],
      "execution_count": 0,
      "outputs": []
    },
    {
      "metadata": {
        "id": "WjB_AAC5sSyI",
        "colab_type": "code",
        "colab": {
          "base_uri": "https://localhost:8080/",
          "height": 35
        },
        "outputId": "f0ef0f0b-bdb0-4c5a-9218-e2bc5176ec22"
      },
      "cell_type": "code",
      "source": [
        "!pip install tensorboardcolab # to install tensorboeadcolab if it does not it not exist"
      ],
      "execution_count": 109,
      "outputs": [
        {
          "output_type": "stream",
          "text": [
            "Requirement already satisfied: tensorboardcolab in /usr/local/lib/python3.6/dist-packages (0.0.22)\n"
          ],
          "name": "stdout"
        }
      ]
    },
    {
      "metadata": {
        "id": "j0NtkTZKsXK_",
        "colab_type": "code",
        "colab": {
          "base_uri": "https://localhost:8080/",
          "height": 71
        },
        "outputId": "1ae29412-c336-4ec5-ddd2-a51851bcf887"
      },
      "cell_type": "code",
      "source": [
        "from tensorboardcolab import * \n",
        "tbc = TensorBoardColab() # To create a tensorboardcolab object it will automatically creat a link\n",
        "writer = tbc.get_writer() # To create a FileWriter\n",
        "writer.add_graph(tf.get_default_graph()) # add the graph \n",
        "writer.flush()"
      ],
      "execution_count": 110,
      "outputs": [
        {
          "output_type": "stream",
          "text": [
            "Wait for 8 seconds...\n",
            "TensorBoard link:\n",
            "http://28561aee.ngrok.io\n"
          ],
          "name": "stdout"
        }
      ]
    },
    {
      "metadata": {
        "id": "4wYdTDU80d5P",
        "colab_type": "code",
        "colab": {}
      },
      "cell_type": "code",
      "source": [
        "trainX = np.linspace(-1, 1, 101)\n",
        "trainY = 3 * trainX + np.random.randn(*trainX.shape) * 0.33"
      ],
      "execution_count": 0,
      "outputs": []
    },
    {
      "metadata": {
        "id": "UxoYMrNS2MqU",
        "colab_type": "code",
        "colab": {
          "base_uri": "https://localhost:8080/",
          "height": 347
        },
        "outputId": "2d68f5a0-2243-423e-b015-ff460d49927a"
      },
      "cell_type": "code",
      "source": [
        "plt.scatter(trainX, trainY)\n",
        "plt.show()"
      ],
      "execution_count": 112,
      "outputs": [
        {
          "output_type": "display_data",
          "data": {
            "image/png": "[encoded data removed]",
            "text/plain": [
              "<Figure size 576x396 with 1 Axes>"
            ]
          },
          "metadata": {
            "tags": []
          }
        }
      ]
    },
    {
      "metadata": {
        "id": "sNFSFFDW3I0J",
        "colab_type": "code",
        "colab": {}
      },
      "cell_type": "code",
      "source": [
        "X = tf.placeholder(tf.float32)\n",
        "Y = tf.placeholder(tf.float32)"
      ],
      "execution_count": 0,
      "outputs": []
    },
    {
      "metadata": {
        "id": "prgwkqoz3U6w",
        "colab_type": "code",
        "colab": {}
      },
      "cell_type": "code",
      "source": [
        "w = tf.Variable(0.0, name = 'weights')\n",
        "init = tf.global_variables_initializer()"
      ],
      "execution_count": 0,
      "outputs": []
    },
    {
      "metadata": {
        "id": "1Cu59ziE3YnG",
        "colab_type": "code",
        "colab": {}
      },
      "cell_type": "code",
      "source": [
        "y_model = tf.multiply(X, w)\n",
        "cost =(tf.pow(Y - y_model, 2))"
      ],
      "execution_count": 0,
      "outputs": []
    },
    {
      "metadata": {
        "id": "AX4dHt9d4Plb",
        "colab_type": "code",
        "colab": {
          "base_uri": "https://localhost:8080/",
          "height": 35
        },
        "outputId": "75d97154-f28a-4bd2-8eb8-080402b3b900"
      },
      "cell_type": "code",
      "source": [
        "cost"
      ],
      "execution_count": 118,
      "outputs": [
        {
          "output_type": "execute_result",
          "data": {
            "text/plain": [
              "<tf.Tensor 'Pow:0' shape=<unknown> dtype=float32>"
            ]
          },
          "metadata": {
            "tags": []
          },
          "execution_count": 118
        }
      ]
    },
    {
      "metadata": {
        "id": "jGlO_0314QUJ",
        "colab_type": "code",
        "colab": {}
      },
      "cell_type": "code",
      "source": [
        "train_op = tf.train.GradientDescentOptimizer(0.01).minimize(cost)"
      ],
      "execution_count": 0,
      "outputs": []
    },
    {
      "metadata": {
        "id": "oXccAPo24bQD",
        "colab_type": "code",
        "colab": {
          "base_uri": "https://localhost:8080/",
          "height": 35
        },
        "outputId": "b5f774ea-96ff-4e38-a080-d7bfcc430f15"
      },
      "cell_type": "code",
      "source": [
        "train_op"
      ],
      "execution_count": 120,
      "outputs": [
        {
          "output_type": "execute_result",
          "data": {
            "text/plain": [
              "<tf.Operation 'GradientDescent' type=NoOp>"
            ]
          },
          "metadata": {
            "tags": []
          },
          "execution_count": 120
        }
      ]
    },
    {
      "metadata": {
        "id": "zFwHk8FE4cxQ",
        "colab_type": "code",
        "colab": {}
      },
      "cell_type": "code",
      "source": [
        "sess = tf.Session()\n",
        "sess.run(init)"
      ],
      "execution_count": 0,
      "outputs": []
    },
    {
      "metadata": {
        "id": "kfo-90F24hRR",
        "colab_type": "code",
        "colab": {}
      },
      "cell_type": "code",
      "source": [
        "for i in range(100):\n",
        "    for(x, y) in zip(trainX, trainY):\n",
        "        sess.run(train_op, feed_dict = {X: x, Y:y})"
      ],
      "execution_count": 0,
      "outputs": []
    },
    {
      "metadata": {
        "id": "pn-6MTQ842r7",
        "colab_type": "code",
        "colab": {
          "base_uri": "https://localhost:8080/",
          "height": 35
        },
        "outputId": "57671fe6-a7a8-47d2-c72a-03ca241da9c9"
      },
      "cell_type": "code",
      "source": [
        "print(sess.run(w))"
      ],
      "execution_count": 125,
      "outputs": [
        {
          "output_type": "stream",
          "text": [
            "2.9188895\n"
          ],
          "name": "stdout"
        }
      ]
    }
  ]
}