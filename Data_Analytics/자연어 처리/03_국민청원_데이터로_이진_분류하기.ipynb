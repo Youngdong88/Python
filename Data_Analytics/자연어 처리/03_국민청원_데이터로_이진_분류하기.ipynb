{
  "nbformat": 4,
  "nbformat_minor": 0,
  "metadata": {
    "colab": {
      "name": "03 국민청원 데이터로 이진 분류하기",
      "version": "0.3.2",
      "provenance": [],
      "include_colab_link": true
    },
    "kernelspec": {
      "name": "python3",
      "display_name": "Python 3"
    }
  },
  "cells": [
    {
      "cell_type": "markdown",
      "metadata": {
        "id": "view-in-github",
        "colab_type": "text"
      },
      "source": [
        "<a href=\"https://colab.research.google.com/github/dongdong-e/Python/blob/master/%EC%9E%90%EC%97%B0%EC%96%B4%20%EC%B2%98%EB%A6%AC/03_%EA%B5%AD%EB%AF%BC%EC%B2%AD%EC%9B%90_%EB%8D%B0%EC%9D%B4%ED%84%B0%EB%A1%9C_%EC%9D%B4%EC%A7%84_%EB%B6%84%EB%A5%98%ED%95%98%EA%B8%B0.ipynb\" target=\"_parent\"><img src=\"https://colab.research.google.com/assets/colab-badge.svg\" alt=\"Open In Colab\"/></a>"
      ]
    },
    {
      "metadata": {
        "id": "Z8avfFNrSJ8N",
        "colab_type": "text"
      },
      "cell_type": "markdown",
      "source": [
        "# **국민청원 데이터로 이진 분류하기**"
      ]
    },
    {
      "metadata": {
        "id": "OKq2r2kcSX6L",
        "colab_type": "text"
      },
      "cell_type": "markdown",
      "source": [
        "* **예제로 응답여부를 0과 1로 예측**\n",
        "* **응답여부 외에도 청원의 카테고리를 예측하는 분류도 가능**\n",
        "* **이 예제를 참고하여 응답여부 외에 청원내용으로 평균 이상의 투표를 받을 것인지 예측**\n",
        "* **파이썬의 머신러닝 라이브러리인 Scikit-learn을 사용**"
      ]
    },
    {
      "metadata": {
        "id": "gp9isL_3TBI5",
        "colab_type": "code",
        "colab": {}
      },
      "cell_type": "code",
      "source": [
        "import pandas as pd\n",
        "import numpy as np\n",
        "import re"
      ],
      "execution_count": 0,
      "outputs": []
    },
    {
      "metadata": {
        "id": "gWf8zMxIT9wU",
        "colab_type": "text"
      },
      "cell_type": "markdown",
      "source": [
        "---"
      ]
    },
    {
      "metadata": {
        "id": "OaN58sVwTJN_",
        "colab_type": "text"
      },
      "cell_type": "markdown",
      "source": [
        "## **데이터 로드하기**"
      ]
    },
    {
      "metadata": {
        "id": "MML19G-4TKjG",
        "colab_type": "code",
        "colab": {}
      },
      "cell_type": "code",
      "source": [
        "# 구글 드라이브에서 csv 파일을 읽어오기 위해 gauth 인증을 합니다.\n",
        "!pip install -U -q PyDrive\n",
        "from pydrive.auth import GoogleAuth\n",
        "from pydrive.drive import GoogleDrive\n",
        "from google.colab import auth\n",
        "from oauth2client.client import GoogleCredentials\n",
        "# Authenticate and create the PyDrive client.\n",
        "auth.authenticate_user()\n",
        "gauth = GoogleAuth()\n",
        "gauth.credentials = GoogleCredentials.get_application_default()\n",
        "drive = GoogleDrive(gauth)"
      ],
      "execution_count": 0,
      "outputs": []
    },
    {
      "metadata": {
        "id": "maTY5f16Tc8i",
        "colab_type": "code",
        "colab": {}
      },
      "cell_type": "code",
      "source": [
        "url ='https://drive.google.com/open?id=1d8VEAj6n83wT1YRlCrhoU_1mMSvYpXc4'\n",
        "id = url.split('=')[1]"
      ],
      "execution_count": 0,
      "outputs": []
    },
    {
      "metadata": {
        "id": "bVU9zGTfTfpf",
        "colab_type": "code",
        "colab": {}
      },
      "cell_type": "code",
      "source": [
        "# 크롤링해 온 국민청원 데이터를 판다스를 통해 읽어온다.\n",
        "downloaded = drive.CreateFile({'id':id}) \n",
        "downloaded.GetContentFile('petition.csv')  "
      ],
      "execution_count": 0,
      "outputs": []
    },
    {
      "metadata": {
        "id": "mYe1TrYVTlbc",
        "colab_type": "code",
        "colab": {}
      },
      "cell_type": "code",
      "source": [
        "petitions = pd.read_csv('petition.csv', parse_dates=['start', 'end'])"
      ],
      "execution_count": 0,
      "outputs": []
    },
    {
      "metadata": {
        "id": "dYNVslSFUAps",
        "colab_type": "code",
        "outputId": "074a9766-4987-4404-ced8-40c8d217812e",
        "colab": {
          "base_uri": "https://localhost:8080/",
          "height": 34
        }
      },
      "cell_type": "code",
      "source": [
        "# 전체 데이터 중 투표가 500건 이상인 데이터를 기준으로 가져온다.\n",
        "# 아웃라이어 데이터 제거를 위해 20만건 이상 데이터도 제거한다.\n",
        "petition_remove_outliar = petitions[(petitions['votes'] > 500) & (petitions['votes'] < 200000)]\n",
        "\n",
        "petition_remove_outliar.shape"
      ],
      "execution_count": 6,
      "outputs": [
        {
          "output_type": "execute_result",
          "data": {
            "text/plain": [
              "(5109, 8)"
            ]
          },
          "metadata": {
            "tags": []
          },
          "execution_count": 6
        }
      ]
    },
    {
      "metadata": {
        "id": "WGlWjuvLUnTP",
        "colab_type": "code",
        "colab": {}
      },
      "cell_type": "code",
      "source": [
        "df = petition_remove_outliar.copy()"
      ],
      "execution_count": 0,
      "outputs": []
    },
    {
      "metadata": {
        "id": "1i1MICKBVU82",
        "colab_type": "text"
      },
      "cell_type": "markdown",
      "source": [
        "---"
      ]
    },
    {
      "metadata": {
        "id": "8BZ7P2MkVLVR",
        "colab_type": "text"
      },
      "cell_type": "markdown",
      "source": [
        "# **이진분류 대상 정하기**"
      ]
    },
    {
      "metadata": {
        "id": "drkKL-26VLvQ",
        "colab_type": "code",
        "outputId": "851d7484-af76-430a-fab8-0c6d895ee425",
        "colab": {
          "base_uri": "https://localhost:8080/",
          "height": 34
        }
      },
      "cell_type": "code",
      "source": [
        "# 답변 대상건 갯수 확인하기\n",
        "df[df['answered'] == 1].shape"
      ],
      "execution_count": 8,
      "outputs": [
        {
          "output_type": "execute_result",
          "data": {
            "text/plain": [
              "(0, 8)"
            ]
          },
          "metadata": {
            "tags": []
          },
          "execution_count": 8
        }
      ]
    },
    {
      "metadata": {
        "id": "bJuepOnzVnf6",
        "colab_type": "code",
        "outputId": "59242f66-e350-4540-833c-a61c553cbce8",
        "colab": {
          "base_uri": "https://localhost:8080/",
          "height": 286
        }
      },
      "cell_type": "code",
      "source": [
        "%matplotlib inline\n",
        "df['votes'].plot.hist()\n",
        "\n",
        "# 아래 그래프를 보면 청원 대부분이 25,000건 미만의 투표를 받은 것으로 확인할 수 있다."
      ],
      "execution_count": 9,
      "outputs": [
        {
          "output_type": "execute_result",
          "data": {
            "text/plain": [
              "<matplotlib.axes._subplots.AxesSubplot at 0x7fdfbf9db828>"
            ]
          },
          "metadata": {
            "tags": []
          },
          "execution_count": 9
        },
        {
          "output_type": "display_data",
          "data": {
            "image/png": "[encoded data removed]",
            "text/plain": [
              "<Figure size 432x288 with 1 Axes>"
            ]
          },
          "metadata": {
            "tags": []
          }
        }
      ]
    },
    {
      "metadata": {
        "id": "0_AvqWJ0WXNO",
        "colab_type": "text"
      },
      "cell_type": "markdown",
      "source": [
        "---"
      ]
    },
    {
      "metadata": {
        "id": "LUAKZZBmWXna",
        "colab_type": "text"
      },
      "cell_type": "markdown",
      "source": [
        "# **투표수를 평균보다 높게 혹은 적게 받는지 예측해 보기**"
      ]
    },
    {
      "metadata": {
        "id": "08oYK58GWZi7",
        "colab_type": "code",
        "colab": {}
      },
      "cell_type": "code",
      "source": [
        "# 기본값을 0으로 세팅\n",
        "df['votes_pos_neg'] = 0"
      ],
      "execution_count": 0,
      "outputs": []
    },
    {
      "metadata": {
        "id": "AfFqoyWLWZFZ",
        "colab_type": "code",
        "outputId": "5d8e497d-d7e5-4373-ee1e-45978276c6cb",
        "colab": {
          "base_uri": "https://localhost:8080/",
          "height": 34
        }
      },
      "cell_type": "code",
      "source": [
        "# 평균 투표수 구하기\n",
        "votes_mean = df['votes'].mean()\n",
        "votes_mean"
      ],
      "execution_count": 11,
      "outputs": [
        {
          "output_type": "execute_result",
          "data": {
            "text/plain": [
              "5674.709140732041"
            ]
          },
          "metadata": {
            "tags": []
          },
          "execution_count": 11
        }
      ]
    },
    {
      "metadata": {
        "id": "wHIPU8FZW0eU",
        "colab_type": "code",
        "colab": {}
      },
      "cell_type": "code",
      "source": [
        "# 투표수가 평균을 넘으면 1, 아니면 0으로 votes_pos_neg의 값 재설정\n",
        "df['votes_pos_neg'] = (df['votes'] > votes_mean) == 1"
      ],
      "execution_count": 0,
      "outputs": []
    },
    {
      "metadata": {
        "id": "xZtqj-DuXSx9",
        "colab_type": "code",
        "outputId": "b6bb33fd-5e93-4ef7-af88-7c57c5ad8086",
        "colab": {
          "base_uri": "https://localhost:8080/",
          "height": 34
        }
      },
      "cell_type": "code",
      "source": [
        "df['votes_pos_neg'].dtype"
      ],
      "execution_count": 13,
      "outputs": [
        {
          "output_type": "execute_result",
          "data": {
            "text/plain": [
              "dtype('bool')"
            ]
          },
          "metadata": {
            "tags": []
          },
          "execution_count": 13
        }
      ]
    },
    {
      "metadata": {
        "id": "PfGQi9omXo1y",
        "colab_type": "code",
        "colab": {}
      },
      "cell_type": "code",
      "source": [
        "# 위에 타입이 'bool' 타입이므로 'int' 타입으로 변경\n",
        "df['votes_pos_neg'] = df['votes_pos_neg'].astype('int')"
      ],
      "execution_count": 0,
      "outputs": []
    },
    {
      "metadata": {
        "id": "7v-uGQOCXzYM",
        "colab_type": "code",
        "outputId": "85fea3fa-d5a5-4cd5-e331-f08603c71ca4",
        "colab": {
          "base_uri": "https://localhost:8080/",
          "height": 195
        }
      },
      "cell_type": "code",
      "source": [
        "# 평균값 = 5674.709140732041\n",
        "df[['votes', 'votes_pos_neg']].head()"
      ],
      "execution_count": 15,
      "outputs": [
        {
          "output_type": "execute_result",
          "data": {
            "text/html": [
              "<div>\n",
              "<style scoped>\n",
              "    .dataframe tbody tr th:only-of-type {\n",
              "        vertical-align: middle;\n",
              "    }\n",
              "\n",
              "    .dataframe tbody tr th {\n",
              "        vertical-align: top;\n",
              "    }\n",
              "\n",
              "    .dataframe thead th {\n",
              "        text-align: right;\n",
              "    }\n",
              "</style>\n",
              "<table border=\"1\" class=\"dataframe\">\n",
              "  <thead>\n",
              "    <tr style=\"text-align: right;\">\n",
              "      <th></th>\n",
              "      <th>votes</th>\n",
              "      <th>votes_pos_neg</th>\n",
              "    </tr>\n",
              "  </thead>\n",
              "  <tbody>\n",
              "    <tr>\n",
              "      <th>7</th>\n",
              "      <td>2137</td>\n",
              "      <td>0</td>\n",
              "    </tr>\n",
              "    <tr>\n",
              "      <th>13</th>\n",
              "      <td>679</td>\n",
              "      <td>0</td>\n",
              "    </tr>\n",
              "    <tr>\n",
              "      <th>21</th>\n",
              "      <td>11293</td>\n",
              "      <td>1</td>\n",
              "    </tr>\n",
              "    <tr>\n",
              "      <th>24</th>\n",
              "      <td>1933</td>\n",
              "      <td>0</td>\n",
              "    </tr>\n",
              "    <tr>\n",
              "      <th>28</th>\n",
              "      <td>1251</td>\n",
              "      <td>0</td>\n",
              "    </tr>\n",
              "  </tbody>\n",
              "</table>\n",
              "</div>"
            ],
            "text/plain": [
              "    votes  votes_pos_neg\n",
              "7    2137              0\n",
              "13    679              0\n",
              "21  11293              1\n",
              "24   1933              0\n",
              "28   1251              0"
            ]
          },
          "metadata": {
            "tags": []
          },
          "execution_count": 15
        }
      ]
    },
    {
      "metadata": {
        "id": "xrvzpeRV14fi",
        "colab_type": "code",
        "colab": {}
      },
      "cell_type": "code",
      "source": [
        "# 샘플로 보고 싶은 인덱스 번호 추가\n",
        "sample_index = 13"
      ],
      "execution_count": 0,
      "outputs": []
    },
    {
      "metadata": {
        "id": "Wy6S557c2KUu",
        "colab_type": "code",
        "outputId": "fdabb5c2-4e4d-4dcd-9389-0cf75e96c336",
        "colab": {
          "base_uri": "https://localhost:8080/",
          "height": 34
        }
      },
      "cell_type": "code",
      "source": [
        "sample_title = df.loc[sample_index, 'title']\n",
        "sample_title"
      ],
      "execution_count": 17,
      "outputs": [
        {
          "output_type": "execute_result",
          "data": {
            "text/plain": [
              "'『국가유공자 등 예우 및 지원에 관한법률』상「6.25전몰군경 자녀수당」의 불합리한 문제점 개선 청원'"
            ]
          },
          "metadata": {
            "tags": []
          },
          "execution_count": 17
        }
      ]
    },
    {
      "metadata": {
        "id": "VSiTe9bu2Zm7",
        "colab_type": "code",
        "outputId": "d253867f-b7df-4cec-b617-df0a7e57ae57",
        "colab": {
          "base_uri": "https://localhost:8080/",
          "height": 54
        }
      },
      "cell_type": "code",
      "source": [
        "sample_content = df.loc[sample_index, 'content']\n",
        "sample_content"
      ],
      "execution_count": 18,
      "outputs": [
        {
          "output_type": "execute_result",
          "data": {
            "text/plain": [
              "'(현황)\\\\n우리들 아버지께서는 67여년전 북의 남침으로 조국이 위기에 처했을 때 젊은 목숨 을 바쳐 대한민국을 지켜내는데 헌신했습니다. 우리들 대부분의 아버님들 중 12만위는 전쟁 후 지금껏 유해도 수습 못했고 忌日도 제대로 알지 못하지만 오직 국가유공자의 자녀라는 자긍심으로 오랜 기간을 가난과 멸시 천대를 이겨왔습니다.\\\\n전후 원호제도는 빈약하여 전사자와 그 가족에 대한 보상과 연금 등은 너무 빈약했고,  그 후도 경제발전 수준을 따라가지도 못하였는데, 1960년대 말은 전쟁유자녀가 성년이 되었다는 이유로 보훈 보상혜택에서 제외시켰다가 김대중정부 시절 2001년7월부터 보훈제도가 확대되어 전후의 미흡했던 보훈혜택을 보전해주기 위해 1997년 12월31일을 기준으로 아래의 제적유자녀 1)와 승계유자녀 2)에게는 先順位자녀 1人에 대하여만「6ㆍ25전몰 군경자녀수당」을 지급하게 되었으나, 단서조항으로 1998년1월1일 이후 어머니 사망으로 연금수급권이 소멸되기 시작한 저희 유자녀들에 대하여는 동법 적용을 배제하여, 어머니 돌아가신 날 하루 차이로 “미수당유자녀” 아래표 3)라는 보훈정책의 사각지대가 생겨났던 것입니다.\\\\n신설된 수당과 유족연금이 노무현 정부이래 점차 현실화 인상 조정되고 이 문제가 장기간 누증되다보니\\\\n6.25전쟁에서 똑 같이 아버지가 전사한 군·경유자녀들인데, 누구는 국가의 지원을 받고 누구는 국가의 지원을 받지 못하는 형평성에 문제가 있는 『국가유공자 등 예우 및 지원에 관한 법률』제16조3(6.25자녀수당)의1,(단서조항 : 1998년 1월 1일을 삭제하는 법안)을 19대 국회에서 더민주당 민홍철 의원님(경남 김해)이 2014년 2월 대표발의 하시어 당시 여당의원 일부 반대의 우여곡절 끝에 전해철 법사위 소위원장님 등의 주도적 노력으로 2015년 11월30일 제337회 정기회에서 재석 의원 만장일치로 법이 통과되어 12월29일 법률 제13697호로 공포된바 있었습니다.\\\\n그럼에도 박근혜 정부는 동법 개정이유와 주요내용에서 입법부가 제안한대로 “특정일 기준 없이 6.25전몰군경유자녀에게 자녀수당을 지급하도록 하여 자녀간 형평성을 도모함과 이들에 대한 생활안정과 복지향상을 재고하려 한다.”고 밝히면서도 입법부의 개정 법률에 정면 위배되는 시행령(제27249호)으로 1,141천원: 970천원: 114천원이라는 불평등으로 호국영령의 명예와 최장 17여년을 기다려온 당사자들을 우롱하였던 것입니다.  그 결과, 현재까지 수당현황을 살펴보면\\\\n6.25 전몰군경 유자녀수당 현황\\\\n구  분                      인 원                      최초 시행일       최초 월수령액    2016년 수령액        현재  월수령액\\\\n1)제적 유자녀            5,400여명            2001.  7월           250,000원         1,141,000원           1,181,000원\\\\n2)승계 유자녀          10,500여명            2001.  7월          250,000원             970,000원           1,004,000원\\\\n3)未수당 유자녀(*신규) 12,600여명   2016.  7월          114,000원             114,000원            118,000원\\\\n※참고 : 유족 연금  5,000여명              /                 /                  100원          1,340,000원+a      전년과 동일\\\\n1) 제적유자녀 : 전사자의 미성년자녀로서 보상금을 받다가 성년이 되어 보상금을 받을 유족이 없어 지급대상에서\\\\n제적된 경우\\\\n2) 승계유자녀 : 전사자의 배우자 또는 부모가 보상금을 받다가 1997년 이전에 사망하여 수급권이 소멸한 경우\\\\n3)未수당유자녀 : 1998년 1월1일 이후에 전사자의 배우자 또는 부모가 보상금을 받다가 사망으로 수급권이 소멸한 경우\\\\n이상 구분과 호칭은 국가보훈처가 정한 것이며, 현재 유족연금 수령자의 자녀는 향후 유자녀수당 대상이 됩니다.\\\\n국가보훈처가 내세우는 보상금(수당)을 더 받고 덜 받는 형평성은 결국 조부모 또는 모친의 수명과 연관된 문제가 되어, 유족당 총수령액의 형평성은 위표 1), 2)유자녀가 2001년 7월부터 수당을 받기 시작한 수당 수령 총액과 1997년 말까지 보상금(연금)을 받은 위표 3)의 조부모 또는 모친의 보상금 수령 총액은 2010년 이전에 이미 역차별까지 발생하였는데도 보수정권하의 보훈처는 확대시행 자체를 반대만 했습니다.\\\\n더욱이 위표3)의 ‘미수당유자녀유족’의 보훈급여금 수령총액 평균이 75,872,600원에 불과하고, 6.25 전몰군경유족에 대한 국가보상은 1970년까지 수령총액이 112,200원, 2007년까지 부친 전사이후 약 60년간의 보상금 수령총액이 1억여원(기본급 기준)에 불과한데, 각종 사고 보상금 지급사례와 비교(보훈안보연구원 박혜란/유영옥 논문)하면 정전협정중인 나라가 이렇게 6.25전사자와 그 가족을 홀대하고 “나라를 위해 희생한 국가유공자와 유족은 국가가 끝까지 책임진다”고 떠들어온 보수정권의 허무맹랑한 호국보훈정책이었습니다.\\\\n「국가유공자예우법」상 보상과 보훈은 국가유공자의 국가에 대한 희생에 대한 보답에 있으므로 국가유공자의 배우자, 자녀, 부모의 위치에 따라 그 예우정도를 달리하는 것은 원칙에 어긋나며 제1차 선순위자로 유족이 된 자는 누구든 동일한 권리를 소유하고 행사할 수 있도록 국가가 보살펴 주어야 한다고 생각됨에도, 국가보훈처는 과거 “자녀는 미성년자녀에 한 한다.”고 규정하고 성년이 되었다는 이유로 연금지급대상에서 제외시켰던 것이 보훈정책의 근시안적 잘못이며 세계적으로 성년자녀에게는 보상을 해주지 않는다는 주무부처의 논리와 예산당국의 횡포는 동족간 전쟁의 아픔과 상처를 겪어보지 못한 국가정체성도 없는 공직자의 무지로, 전사자와 생존자간의 예우, 나아가 전사간의 예우에 불균형을 초래한 보훈정책의 과오였으며 독립운동유족의 3대까지 보살핌이나 국가보상법 시행령, 광주민주화운동보상법 등에서와 같이 별도의 차별 규정을 두지 않았다면 발생하지도 않았을 모순이라고 저희들은 지금까지 정부를 원망해왔습니다.\\\\n*6.25전사자 유족이 받은 연금(보상금) 총액과 아래표를 보시면 허탈한 저희 심경을 이해하실 것입니다.\\\\n<각 사망사고 보상금 비교>\\\\n광주민주화운동/2억332만원, 국고보상법/2억593만원, C랜드화재/3억5,000만원, 삼풍사고, 성수대교/ 3억5,000만원, 대구철도/5억8,000, 세월호 참사/4.5억~12억, 천안함 희생용사/7.5억~9.1억, 경주마우나리조트/10억, 아시아나 착륙사고/3.2억+a, 서해훼리호/4.4억 등등\\\\n대통령님께서 취임하신 후 광화문1번가, 인수위원회, 비서실에도 편지와 메일로 제안 및 호소를 드렸지만 바로 국가보훈처로 이첩되고 국가보훈처는 과거 보수정권하와 똑같이 앵무새와 같은 답변만 반복하고 있으며(답변 내용중 일부를 인용하면 :\\\\n* 98.1.1일 이후에도 보상금을 수령한 유족이 있는 유자녀가 동일한 수혜를 받았다고 보기는 어렵다는 정책적 판단 하에---.  *향후 국가재정 여건 등을 감안하여 관계부처와의 협의를 거쳐 점차 개선--운운),\\\\n저희들 대표와의 면담 신청마져 “업무수행과 대외행사 참여로 바쁘다”는 회신으로 경청도 소통도 거부하고 있습니다.\\\\n이런 국가보훈처의 업무태도와 의사소통은 대통령님이 바라시는 국정 운영 철학과는 너무나 다르다고 생각됩니다.\\\\n(청원의 해결 방안)\\\\n1. 국가유공자 등 예우 및 지원에 관한 법률 시행령 (제27249호 2016.6.23.), 별표5-5를 개정하되\\\\nA) 승계유자녀 2)에 신규 유자녀 3)(속칭 未수당유자녀)를 포함하여 차등 없이 일률 지급하시거나\\\\nB) 예산사정이 어렵다면 98.1.1부터 2016. 6.30까지 연금 수급권이 정지되었던 기간을 개별적으로 감안하시어\\\\n역순으로 약간의 인정할 수 있는 차등을 두는 방안은 당사자들도 납득할 수 있지 않을까 개인적으로는 생각하나\\\\n근원적 해결책은 아니라고 생각합니다.\\\\n2. 20대 국회에 [2001202호]「국가유공자 등 예우 및 지원에 관한 법률 일부 개정법률안」(더불어민주당 민홍철의원 등 14분)이 발의, 동법의 제정목적과 이념을 바로잡고, 6,25전사자와 그 유족의 명예회복과 6.25전몰군경유자녀(유족)간 갈등과 불평등을 해소할 수 있는 개정(안)이 현재 정무위원회에 계류중에 있으므로 의원입법으로 통과되도록 대통령님의 정책 배려 및 여당의 주도적 지원이 가능하리라 사료됩니다.\\\\n* 위 2안의 아쉬움은 국가를 위해 희생된 유자녀들 아버지 죽음에 대한 대가가 사회보장적, 생활 보호적 차원에서 보상을 한다는 것은 이미 평균나이 70세이상인 당사자들에게는 국민기초생활 보장 또는 노약자복지 차원과 중복되는 허탈감은 있으나, 국민기초생활보장법상의 생계급여가 기준중위소득의 29%(2017년까지 30%)인 점을 감안하여 40%이상 수준에서 합리적으로 결정하도록 최소기준을 정하고 있으므로 시행령으로 상위법을 무력화 시키는 행정권 남용과 원칙없는 불평등 해결의 차선책은 될 수 있다고 생각됩니다. (현재 118천원이 2017년 기준 약 667천원으로 조정되는 안)\\\\n(호소)\\\\n존경하는 문재인 대통령님!\\\\n대통령님께서는 지난 현충일 추념사에서 국가유공자와 보훈대상자, 그 가족이 자존감을 지키며 살아가실 수 있도록 하겠으며 국가를 위해 헌신하면 보상받고 반역자는 심판받는다는 흔들리지 않는 믿음이 있어야 한다고 말씀하시며 그것이 국민이 애국심을 바칠 수 있는, 나라다운 나라로, 애국이 보상받고, 정의가 보상받고, 원칙이 보상받고, 정직이 보상받는 나라를 다함께 만들어 나가자고 말씀하셨습니다.\\\\n아울러 독립유공자와 그 가족 행사 및 광복절 기념사에서 \"새 정부가 가장 중요하게 생각하는 일 중 하나가 보훈정책을 제대로 하는 것\"이라며 보훈처와 관련 정부 부처가 함께 보훈 보상체계 개선방안을 준비하고 있으며 이번 기회에 정부는 대한민국 보훈의 기틀을 완전히 새롭게 세우고자 한다고 하시어 저희들은 너무 마음 든든하였으나, 한가지 아쉬운 점은 독립운동 유족은 3대까지(1인이 아니라 전체로 확대), 참전용사와 무공영예수당의 대폭 인상, 순직 군인과 경찰 소방공무원 유족까지 처우 확대, 의료 확대 등을 언급하시면서 6.25전쟁에서 아버지를 잃고 유해마저 인수받지 못하고 불평등한 처우를 받고 있는 저희 유자녀들만 외면하시는 것은 아닌지 너무나 안타깝습니다.\\\\n사랑하는 부모형제와 젊은 부인, 핏덩이 자식을 남기고 전사하신 가장의 심정으로 보훈의 기틀을 다시 세우시면서 어머니 앞으로 국가에서 나온 연금만으로는 생활할 수도 없어 소년가장이 되어 가난하지만 자식의 효심으로 어머니를 조금 더 모시다가 가시게 한 미수당 or 신규유자녀들 위표3) 문제도 바로 잡아주시어 평균 70세 이상인 저희들이 아버지가 목숨바쳐 지킨 나라에서 남은 생을 자랑스럽게 살고 갈 수 있도록 청원드리오니 살펴주시기 바랍니다.'"
            ]
          },
          "metadata": {
            "tags": []
          },
          "execution_count": 18
        }
      ]
    },
    {
      "metadata": {
        "id": "IaEjYWiwDKaE",
        "colab_type": "text"
      },
      "cell_type": "markdown",
      "source": [
        "---"
      ]
    },
    {
      "metadata": {
        "id": "xcsInOuYDMib",
        "colab_type": "text"
      },
      "cell_type": "markdown",
      "source": [
        "# **전처리 하기**"
      ]
    },
    {
      "metadata": {
        "id": "OLRkDsKIDLEV",
        "colab_type": "code",
        "colab": {}
      },
      "cell_type": "code",
      "source": [
        "def preprocessing(text):\n",
        "    # 개행문자 제거\n",
        "    text = re.sub('\\\\\\\\n', ' ', text)\n",
        "    \n",
        "    # 특수문자 제거\n",
        "    # text = re.sub('[?.,;:|\\)*~`’!^\\-_+<>@\\#$%&-=#}※]', '', text)\n",
        "    \n",
        "    # 한글, 영문, 숫자만 남기고 모두 제거\n",
        "    # text = re.sub('[^가-힣ㄱ-ㅎㅏ-ㅣa-zA-Z0-9]', ' ', text)\n",
        "    \n",
        "    # 한글, 영문만 남기고 모두 제거하도록 합니다.\n",
        "    text = re.sub('[^가-힣ㄱ-ㅎㅏ-ㅣa-zA-Z]', ' ', text)\n",
        "    \n",
        "    # 중복으로 생성된 공백값을 제거합니다.\n",
        "    text = re.sub(' +', ' ', text)\n",
        "    return text"
      ],
      "execution_count": 0,
      "outputs": []
    },
    {
      "metadata": {
        "id": "nfttVF26EY6y",
        "colab_type": "code",
        "colab": {}
      },
      "cell_type": "code",
      "source": [
        "# 불용어 제거\n",
        "def remove_stopwords(text):\n",
        "    tokens = text.split(' ')\n",
        "    stops = ['안녕', '있습니다', '그', '년도', '안녕하세요', '하는', '및', '제', '할',\n",
        "             '하고', '더', '대한', '한', '그리고', '월', '저는', '없는', '입니다', '등', '일',\n",
        "             '많은', '이런', '것은', '왜','같은', '같습니다', '없습니다', '위해', '한다']\n",
        "    meaningful_words = [w for w in tokens if not w in stops]\n",
        "    return ' '.join(meaningful_words)"
      ],
      "execution_count": 0,
      "outputs": []
    },
    {
      "metadata": {
        "id": "n08dy3m6FAmL",
        "colab_type": "code",
        "outputId": "26895a36-e206-40b1-8e4b-35acee42aeef",
        "colab": {
          "base_uri": "https://localhost:8080/",
          "height": 52
        }
      },
      "cell_type": "code",
      "source": [
        "# 샘플데이터에 적용\n",
        "%time pre_sample_content = preprocessing(sample_content)"
      ],
      "execution_count": 21,
      "outputs": [
        {
          "output_type": "stream",
          "text": [
            "CPU times: user 4.57 ms, sys: 0 ns, total: 4.57 ms\n",
            "Wall time: 4.84 ms\n"
          ],
          "name": "stdout"
        }
      ]
    },
    {
      "metadata": {
        "id": "Zu_6xiwpFJaF",
        "colab_type": "code",
        "outputId": "a4af2abf-c94e-4426-b838-292f3698618d",
        "colab": {
          "base_uri": "https://localhost:8080/",
          "height": 52
        }
      },
      "cell_type": "code",
      "source": [
        "%time pre_sample_content = remove_stopwords(pre_sample_content)"
      ],
      "execution_count": 22,
      "outputs": [
        {
          "output_type": "stream",
          "text": [
            "CPU times: user 1.07 ms, sys: 0 ns, total: 1.07 ms\n",
            "Wall time: 1.86 ms\n"
          ],
          "name": "stdout"
        }
      ]
    },
    {
      "metadata": {
        "id": "dXoJREEMFQwB",
        "colab_type": "code",
        "outputId": "a7b9d3c8-9ff6-473a-ed21-38ac22138b53",
        "colab": {
          "base_uri": "https://localhost:8080/",
          "height": 54
        }
      },
      "cell_type": "code",
      "source": [
        "pre_sample_content"
      ],
      "execution_count": 23,
      "outputs": [
        {
          "output_type": "execute_result",
          "data": {
            "text/plain": [
              "' 현황 우리들 아버지께서는 여년전 북의 남침으로 조국이 위기에 처했을 때 젊은 목숨 을 바쳐 대한민국을 지켜내는데 헌신했습니다 우리들 대부분의 아버님들 중 만위는 전쟁 후 지금껏 유해도 수습 못했고 도 제대로 알지 못하지만 오직 국가유공자의 자녀라는 자긍심으로 오랜 기간을 가난과 멸시 천대를 이겨왔습니다 전후 원호제도는 빈약하여 전사자와 가족에 보상과 연금 등은 너무 빈약했고 후도 경제발전 수준을 따라가지도 못하였는데 년대 말은 전쟁유자녀가 성년이 되었다는 이유로 보훈 보상혜택에서 제외시켰다가 김대중정부 시절 년 월부터 보훈제도가 확대되어 전후의 미흡했던 보훈혜택을 보전해주기 년 일을 기준으로 아래의 제적유자녀 와 승계유자녀 에게는 자녀 에 대하여만 전몰 군경자녀수당 을 지급하게 되었으나 단서조항으로 년 이후 어머니 사망으로 연금수급권이 소멸되기 시작한 저희 유자녀들에 대하여는 동법 적용을 배제하여 어머니 돌아가신 날 하루 차이로 미수당유자녀 아래표 라는 보훈정책의 사각지대가 생겨났던 것입니다 신설된 수당과 유족연금이 노무현 정부이래 점차 현실화 인상 조정되고 이 문제가 장기간 누증되다보니 전쟁에서 똑 같이 아버지가 전사한 군 경유자녀들인데 누구는 국가의 지원을 받고 누구는 국가의 지원을 받지 못하는 형평성에 문제가 있는 국가유공자 예우 지원에 관한 법률 조 자녀수당 의 단서조항 년 일을 삭제하는 법안 을 대 국회에서 더민주당 민홍철 의원님 경남 김해 이 년 대표발의 하시어 당시 여당의원 일부 반대의 우여곡절 끝에 전해철 법사위 소위원장님 등의 주도적 노력으로 년 회 정기회에서 재석 의원 만장일치로 법이 통과되어 법률 호로 공포된바 있었습니다 그럼에도 박근혜 정부는 동법 개정이유와 주요내용에서 입법부가 제안한대로 특정일 기준 없이 전몰군경유자녀에게 자녀수당을 지급하도록 하여 자녀간 형평성을 도모함과 이들에 생활안정과 복지향상을 재고하려 고 밝히면서도 입법부의 개정 법률에 정면 위배되는 시행령 호 으로 천원 천원 천원이라는 불평등으로 호국영령의 명예와 최장 여년을 기다려온 당사자들을 우롱하였던 것입니다 결과 현재까지 수당현황을 살펴보면 전몰군경 유자녀수당 현황 구 분 인 원 최초 시행일 최초 월수령액 년 수령액 현재 월수령액 제적 유자녀 여명 원 원 원 승계 유자녀 여명 원 원 원 수당 유자녀 신규 여명 원 원 원 참고 유족 연금 여명 원 원 a 전년과 동일 제적유자녀 전사자의 미성년자녀로서 보상금을 받다가 성년이 되어 보상금을 받을 유족이 없어 지급대상에서 제적된 경우 승계유자녀 전사자의 배우자 또는 부모가 보상금을 받다가 년 이전에 사망하여 수급권이 소멸한 경우 수당유자녀 년 이후에 전사자의 배우자 또는 부모가 보상금을 받다가 사망으로 수급권이 소멸한 경우 이상 구분과 호칭은 국가보훈처가 정한 것이며 현재 유족연금 수령자의 자녀는 향후 유자녀수당 대상이 됩니다 국가보훈처가 내세우는 보상금 수당 을 받고 덜 받는 형평성은 결국 조부모 또는 모친의 수명과 연관된 문제가 되어 유족당 총수령액의 형평성은 위표 유자녀가 년 월부터 수당을 받기 시작한 수당 수령 총액과 년 말까지 보상금 연금 을 받은 위표 의 조부모 또는 모친의 보상금 수령 총액은 년 이전에 이미 역차별까지 발생하였는데도 보수정권하의 보훈처는 확대시행 자체를 반대만 했습니다 더욱이 위표 의 미수당유자녀유족 의 보훈급여금 수령총액 평균이 원에 불과하고 전몰군경유족에 국가보상은 년까지 수령총액이 원 년까지 부친 전사이후 약 년간의 보상금 수령총액이 억여원 기본급 기준 에 불과한데 각종 사고 보상금 지급사례와 비교 보훈안보연구원 박혜란 유영옥 논문 하면 정전협정중인 나라가 이렇게 전사자와 가족을 홀대하고 나라를 희생한 국가유공자와 유족은 국가가 끝까지 책임진다 고 떠들어온 보수정권의 허무맹랑한 호국보훈정책이었습니다 국가유공자예우법 상 보상과 보훈은 국가유공자의 국가에 희생에 보답에 있으므로 국가유공자의 배우자 자녀 부모의 위치에 따라 예우정도를 달리하는 원칙에 어긋나며 차 선순위자로 유족이 된 자는 누구든 동일한 권리를 소유하고 행사할 수 있도록 국가가 보살펴 주어야 한다고 생각됨에도 국가보훈처는 과거 자녀는 미성년자녀에 고 규정하고 성년이 되었다는 이유로 연금지급대상에서 제외시켰던 것이 보훈정책의 근시안적 잘못이며 세계적으로 성년자녀에게는 보상을 해주지 않는다는 주무부처의 논리와 예산당국의 횡포는 동족간 전쟁의 아픔과 상처를 겪어보지 못한 국가정체성도 공직자의 무지로 전사자와 생존자간의 예우 나아가 전사간의 예우에 불균형을 초래한 보훈정책의 과오였으며 독립운동유족의 대까지 보살핌이나 국가보상법 시행령 광주민주화운동보상법 등에서와 같이 별도의 차별 규정을 두지 않았다면 발생하지도 않았을 모순이라고 저희들은 지금까지 정부를 원망해왔습니다 전사자 유족이 받은 연금 보상금 총액과 아래표를 보시면 허탈한 저희 심경을 이해하실 것입니다 각 사망사고 보상금 비교 광주민주화운동 억 만원 국고보상법 억 만원 C랜드화재 억 만원 삼풍사고 성수대교 억 만원 대구철도 억 세월호 참사 억 억 천안함 희생용사 억 억 경주마우나리조트 억 아시아나 착륙사고 억 a 서해훼리호 억 등등 대통령님께서 취임하신 후 광화문 번가 인수위원회 비서실에도 편지와 메일로 제안 호소를 드렸지만 바로 국가보훈처로 이첩되고 국가보훈처는 과거 보수정권하와 똑같이 앵무새와 답변만 반복하고 있으며 답변 내용중 일부를 인용하면 이후에도 보상금을 수령한 유족이 있는 유자녀가 동일한 수혜를 받았다고 보기는 어렵다는 정책적 판단 하에 향후 국가재정 여건 등을 감안하여 관계부처와의 협의를 거쳐 점차 개선 운운 저희들 대표와의 면담 신청마져 업무수행과 대외행사 참여로 바쁘다 는 회신으로 경청도 소통도 거부하고 국가보훈처의 업무태도와 의사소통은 대통령님이 바라시는 국정 운영 철학과는 너무나 다르다고 생각됩니다 청원의 해결 방안 국가유공자 예우 지원에 관한 법률 시행령 호 별표 를 개정하되 A 승계유자녀 에 신규 유자녀 속칭 수당유자녀 를 포함하여 차등 없이 일률 지급하시거나 B 예산사정이 어렵다면 부터 까지 연금 수급권이 정지되었던 기간을 개별적으로 감안하시어 역순으로 약간의 인정할 수 있는 차등을 두는 방안은 당사자들도 납득할 수 있지 않을까 개인적으로는 생각하나 근원적 해결책은 아니라고 생각합니다 대 국회에 호 국가유공자 예우 지원에 관한 법률 일부 개정법률안 더불어민주당 민홍철의원 분 이 발의 동법의 제정목적과 이념을 바로잡고 전사자와 유족의 명예회복과 전몰군경유자녀 유족 간 갈등과 불평등을 해소할 수 있는 개정 안 이 현재 정무위원회에 계류중에 있으므로 의원입법으로 통과되도록 대통령님의 정책 배려 여당의 주도적 지원이 가능하리라 사료됩니다 위 안의 아쉬움은 국가를 희생된 유자녀들 아버지 죽음에 대가가 사회보장적 생활 보호적 차원에서 보상을 한다는 이미 평균나이 세이상인 당사자들에게는 국민기초생활 보장 또는 노약자복지 차원과 중복되는 허탈감은 있으나 국민기초생활보장법상의 생계급여가 기준중위소득의 년까지 인 점을 감안하여 이상 수준에서 합리적으로 결정하도록 최소기준을 정하고 있으므로 시행령으로 상위법을 무력화 시키는 행정권 남용과 원칙없는 불평등 해결의 차선책은 될 수 있다고 생각됩니다 현재 천원이 년 기준 약 천원으로 조정되는 안 호소 존경하는 문재인 대통령님 대통령님께서는 지난 현충일 추념사에서 국가유공자와 보훈대상자 가족이 자존감을 지키며 살아가실 수 있도록 하겠으며 국가를 헌신하면 보상받고 반역자는 심판받는다는 흔들리지 않는 믿음이 있어야 한다고 말씀하시며 그것이 국민이 애국심을 바칠 수 있는 나라다운 나라로 애국이 보상받고 정의가 보상받고 원칙이 보상받고 정직이 보상받는 나라를 다함께 만들어 나가자고 말씀하셨습니다 아울러 독립유공자와 가족 행사 광복절 기념사에서 새 정부가 가장 중요하게 생각하는 중 하나가 보훈정책을 제대로 것 이라며 보훈처와 관련 정부 부처가 함께 보훈 보상체계 개선방안을 준비하고 있으며 이번 기회에 정부는 대한민국 보훈의 기틀을 완전히 새롭게 세우고자 한다고 하시어 저희들은 너무 마음 든든하였으나 한가지 아쉬운 점은 독립운동 유족은 대까지 인이 아니라 전체로 확대 참전용사와 무공영예수당의 대폭 인상 순직 군인과 경찰 소방공무원 유족까지 처우 확대 의료 확대 등을 언급하시면서 전쟁에서 아버지를 잃고 유해마저 인수받지 못하고 불평등한 처우를 받고 있는 저희 유자녀들만 외면하시는 아닌지 너무나 안타깝습니다 사랑하는 부모형제와 젊은 부인 핏덩이 자식을 남기고 전사하신 가장의 심정으로 보훈의 기틀을 다시 세우시면서 어머니 앞으로 국가에서 나온 연금만으로는 생활할 수도 없어 소년가장이 되어 가난하지만 자식의 효심으로 어머니를 조금 모시다가 가시게 미수당 or 신규유자녀들 위표 문제도 바로 잡아주시어 평균 세 이상인 저희들이 아버지가 목숨바쳐 지킨 나라에서 남은 생을 자랑스럽게 살고 갈 수 있도록 청원드리오니 살펴주시기 바랍니다 '"
            ]
          },
          "metadata": {
            "tags": []
          },
          "execution_count": 23
        }
      ]
    },
    {
      "metadata": {
        "id": "qUq_ioAZFfIa",
        "colab_type": "code",
        "colab": {}
      },
      "cell_type": "code",
      "source": [
        "df['content_preprocessing'] = df['content'].apply(preprocessing)"
      ],
      "execution_count": 0,
      "outputs": []
    },
    {
      "metadata": {
        "id": "-MAY2_kdFoTj",
        "colab_type": "code",
        "colab": {}
      },
      "cell_type": "code",
      "source": [
        "df['content_preprocessing'] = df['content_preprocessing'].apply(remove_stopwords)"
      ],
      "execution_count": 0,
      "outputs": []
    },
    {
      "metadata": {
        "id": "0gw-XUCRGYuf",
        "colab_type": "text"
      },
      "cell_type": "markdown",
      "source": [
        "---"
      ]
    },
    {
      "metadata": {
        "id": "i2w12IS1GZJA",
        "colab_type": "text"
      },
      "cell_type": "markdown",
      "source": [
        "# **학습세트와 테스트세트 만들기**\n",
        "* **학습세트와 테스트세트를 7:3 비율로 설정**"
      ]
    },
    {
      "metadata": {
        "id": "Svn8drEKGbWT",
        "colab_type": "code",
        "outputId": "e996ad83-b17e-4c9d-a5e0-33d2fe0e5b19",
        "colab": {
          "base_uri": "https://localhost:8080/",
          "height": 237
        }
      },
      "cell_type": "code",
      "source": [
        "df = df.reset_index()\n",
        "df.head(3)"
      ],
      "execution_count": 26,
      "outputs": [
        {
          "output_type": "execute_result",
          "data": {
            "text/html": [
              "<div>\n",
              "<style scoped>\n",
              "    .dataframe tbody tr th:only-of-type {\n",
              "        vertical-align: middle;\n",
              "    }\n",
              "\n",
              "    .dataframe tbody tr th {\n",
              "        vertical-align: top;\n",
              "    }\n",
              "\n",
              "    .dataframe thead th {\n",
              "        text-align: right;\n",
              "    }\n",
              "</style>\n",
              "<table border=\"1\" class=\"dataframe\">\n",
              "  <thead>\n",
              "    <tr style=\"text-align: right;\">\n",
              "      <th></th>\n",
              "      <th>index</th>\n",
              "      <th>article_id</th>\n",
              "      <th>start</th>\n",
              "      <th>end</th>\n",
              "      <th>answered</th>\n",
              "      <th>votes</th>\n",
              "      <th>category</th>\n",
              "      <th>title</th>\n",
              "      <th>content</th>\n",
              "      <th>votes_pos_neg</th>\n",
              "      <th>content_preprocessing</th>\n",
              "    </tr>\n",
              "  </thead>\n",
              "  <tbody>\n",
              "    <tr>\n",
              "      <th>0</th>\n",
              "      <td>7</td>\n",
              "      <td>28</td>\n",
              "      <td>2017-08-19</td>\n",
              "      <td>2017-08-26</td>\n",
              "      <td>0</td>\n",
              "      <td>2137</td>\n",
              "      <td>경제민주화</td>\n",
              "      <td>소액주주를 보호해주십시오</td>\n",
              "      <td>**  존경하옵는 문재인대통령님께\\n저는 중국원양자원이라는 KOSPI상장사의 소액 ...</td>\n",
              "      <td>0</td>\n",
              "      <td>존경하옵는 문재인대통령님께 중국원양자원이라는 KOSPI상장사의 소액 주주입니다 중...</td>\n",
              "    </tr>\n",
              "    <tr>\n",
              "      <th>1</th>\n",
              "      <td>13</td>\n",
              "      <td>34</td>\n",
              "      <td>2017-08-19</td>\n",
              "      <td>2017-09-18</td>\n",
              "      <td>0</td>\n",
              "      <td>679</td>\n",
              "      <td>기타</td>\n",
              "      <td>『국가유공자 등 예우 및 지원에 관한법률』상「6.25전몰군경 자녀수당」의 불합리한 ...</td>\n",
              "      <td>(현황)\\n우리들 아버지께서는 67여년전 북의 남침으로 조국이 위기에 처했을 때 젊...</td>\n",
              "      <td>0</td>\n",
              "      <td>현황 우리들 아버지께서는 여년전 북의 남침으로 조국이 위기에 처했을 때 젊은 목숨...</td>\n",
              "    </tr>\n",
              "    <tr>\n",
              "      <th>2</th>\n",
              "      <td>21</td>\n",
              "      <td>43</td>\n",
              "      <td>2017-08-19</td>\n",
              "      <td>2017-09-18</td>\n",
              "      <td>0</td>\n",
              "      <td>11293</td>\n",
              "      <td>육아/교육</td>\n",
              "      <td>기간제 교사의 정규직화를 반대합니다.</td>\n",
              "      <td>대통령님, 안녕하세요. 저는 임용을 준비하고 수험생입니다. 처음 기간제 정규직화 된...</td>\n",
              "      <td>1</td>\n",
              "      <td>대통령님 임용을 준비하고 수험생입니다 처음 기간제 정규직화 된다고 했을 때 공채 채...</td>\n",
              "    </tr>\n",
              "  </tbody>\n",
              "</table>\n",
              "</div>"
            ],
            "text/plain": [
              "   index  article_id      start        end  answered  votes category  \\\n",
              "0      7          28 2017-08-19 2017-08-26         0   2137    경제민주화   \n",
              "1     13          34 2017-08-19 2017-09-18         0    679       기타   \n",
              "2     21          43 2017-08-19 2017-09-18         0  11293    육아/교육   \n",
              "\n",
              "                                               title  \\\n",
              "0                                      소액주주를 보호해주십시오   \n",
              "1  『국가유공자 등 예우 및 지원에 관한법률』상「6.25전몰군경 자녀수당」의 불합리한 ...   \n",
              "2                               기간제 교사의 정규직화를 반대합니다.   \n",
              "\n",
              "                                             content  votes_pos_neg  \\\n",
              "0  **  존경하옵는 문재인대통령님께\\n저는 중국원양자원이라는 KOSPI상장사의 소액 ...              0   \n",
              "1  (현황)\\n우리들 아버지께서는 67여년전 북의 남침으로 조국이 위기에 처했을 때 젊...              0   \n",
              "2  대통령님, 안녕하세요. 저는 임용을 준비하고 수험생입니다. 처음 기간제 정규직화 된...              1   \n",
              "\n",
              "                               content_preprocessing  \n",
              "0   존경하옵는 문재인대통령님께 중국원양자원이라는 KOSPI상장사의 소액 주주입니다 중...  \n",
              "1   현황 우리들 아버지께서는 여년전 북의 남침으로 조국이 위기에 처했을 때 젊은 목숨...  \n",
              "2  대통령님 임용을 준비하고 수험생입니다 처음 기간제 정규직화 된다고 했을 때 공채 채...  "
            ]
          },
          "metadata": {
            "tags": []
          },
          "execution_count": 26
        }
      ]
    },
    {
      "metadata": {
        "id": "WgvqOMslGrqK",
        "colab_type": "code",
        "outputId": "1e84711e-3ce3-458a-d750-f212f75dc6da",
        "colab": {
          "base_uri": "https://localhost:8080/",
          "height": 34
        }
      },
      "cell_type": "code",
      "source": [
        "df.shape"
      ],
      "execution_count": 27,
      "outputs": [
        {
          "output_type": "execute_result",
          "data": {
            "text/plain": [
              "(5109, 11)"
            ]
          },
          "metadata": {
            "tags": []
          },
          "execution_count": 27
        }
      ]
    },
    {
      "metadata": {
        "id": "LqGPnAjWG6aU",
        "colab_type": "text"
      },
      "cell_type": "markdown",
      "source": [
        "## **데이터를 나누는 기준을 구함**"
      ]
    },
    {
      "metadata": {
        "id": "a6wbfEzLG-6p",
        "colab_type": "code",
        "colab": {}
      },
      "cell_type": "code",
      "source": [
        "split_count = int(df.shape[0] * 0.7)"
      ],
      "execution_count": 0,
      "outputs": []
    },
    {
      "metadata": {
        "id": "Cj5NQDqtHFFK",
        "colab_type": "text"
      },
      "cell_type": "markdown",
      "source": [
        "## **학습세트 만들기**\n",
        "* **split_count를 기준으로 70% 분량만 데이터로 활용**"
      ]
    },
    {
      "metadata": {
        "id": "Xx7FO3q6HFPt",
        "colab_type": "code",
        "outputId": "2d5c0f20-176e-4389-ebfd-1a231eb8dac6",
        "colab": {
          "base_uri": "https://localhost:8080/",
          "height": 34
        }
      },
      "cell_type": "code",
      "source": [
        "df_train = df[:split_count].copy()\n",
        "df_train.shape"
      ],
      "execution_count": 29,
      "outputs": [
        {
          "output_type": "execute_result",
          "data": {
            "text/plain": [
              "(3576, 11)"
            ]
          },
          "metadata": {
            "tags": []
          },
          "execution_count": 29
        }
      ]
    },
    {
      "metadata": {
        "id": "DrqsSv8WHxl9",
        "colab_type": "code",
        "outputId": "16cd49aa-6392-4d1f-8f43-a6b9e3a8db9e",
        "colab": {
          "base_uri": "https://localhost:8080/",
          "height": 34
        }
      },
      "cell_type": "code",
      "source": [
        "# 학습세트에서 투표수가 평균보다 많은 건\n",
        "df_train.loc[df_train['votes_pos_neg'] == 1].shape"
      ],
      "execution_count": 30,
      "outputs": [
        {
          "output_type": "execute_result",
          "data": {
            "text/plain": [
              "(671, 11)"
            ]
          },
          "metadata": {
            "tags": []
          },
          "execution_count": 30
        }
      ]
    },
    {
      "metadata": {
        "id": "_8Fs2Fo9ICw6",
        "colab_type": "text"
      },
      "cell_type": "markdown",
      "source": [
        "## **테스트세트 만들기**\n",
        "* **split_count를 기준으로 30% 분량만 데이터로 활용**"
      ]
    },
    {
      "metadata": {
        "id": "zlcxgelOIDW2",
        "colab_type": "code",
        "outputId": "d46971a0-bf1b-46fb-9d03-e7d310122aa0",
        "colab": {
          "base_uri": "https://localhost:8080/",
          "height": 34
        }
      },
      "cell_type": "code",
      "source": [
        "df_test = df[split_count:].copy()\n",
        "df_test.shape"
      ],
      "execution_count": 31,
      "outputs": [
        {
          "output_type": "execute_result",
          "data": {
            "text/plain": [
              "(1533, 11)"
            ]
          },
          "metadata": {
            "tags": []
          },
          "execution_count": 31
        }
      ]
    },
    {
      "metadata": {
        "id": "31a-4cNLIjoA",
        "colab_type": "code",
        "outputId": "a872549f-48e8-4575-eac6-ec907fd4c07c",
        "colab": {
          "base_uri": "https://localhost:8080/",
          "height": 110
        }
      },
      "cell_type": "code",
      "source": [
        "df_test.head(1)"
      ],
      "execution_count": 32,
      "outputs": [
        {
          "output_type": "execute_result",
          "data": {
            "text/html": [
              "<div>\n",
              "<style scoped>\n",
              "    .dataframe tbody tr th:only-of-type {\n",
              "        vertical-align: middle;\n",
              "    }\n",
              "\n",
              "    .dataframe tbody tr th {\n",
              "        vertical-align: top;\n",
              "    }\n",
              "\n",
              "    .dataframe thead th {\n",
              "        text-align: right;\n",
              "    }\n",
              "</style>\n",
              "<table border=\"1\" class=\"dataframe\">\n",
              "  <thead>\n",
              "    <tr style=\"text-align: right;\">\n",
              "      <th></th>\n",
              "      <th>index</th>\n",
              "      <th>article_id</th>\n",
              "      <th>start</th>\n",
              "      <th>end</th>\n",
              "      <th>answered</th>\n",
              "      <th>votes</th>\n",
              "      <th>category</th>\n",
              "      <th>title</th>\n",
              "      <th>content</th>\n",
              "      <th>votes_pos_neg</th>\n",
              "      <th>content_preprocessing</th>\n",
              "    </tr>\n",
              "  </thead>\n",
              "  <tbody>\n",
              "    <tr>\n",
              "      <th>3576</th>\n",
              "      <td>264134</td>\n",
              "      <td>343214</td>\n",
              "      <td>2018-08-15</td>\n",
              "      <td>2018-09-14</td>\n",
              "      <td>0</td>\n",
              "      <td>724</td>\n",
              "      <td>교통/건축/국토</td>\n",
              "      <td>동탄1 신도시의 동탄트램1호선, 동탄트램2호선을 유지하여 착공해주세요</td>\n",
              "      <td>청원개요\\n존경하는 대통령님\\n동탄 1신도시는 국가의 중추를 담당하는 허리로써\\n인...</td>\n",
              "      <td>0</td>\n",
              "      <td>청원개요 존경하는 대통령님 동탄 신도시는 국가의 중추를 담당하는 허리로써 인구 만에...</td>\n",
              "    </tr>\n",
              "  </tbody>\n",
              "</table>\n",
              "</div>"
            ],
            "text/plain": [
              "       index  article_id      start        end  answered  votes  category  \\\n",
              "3576  264134      343214 2018-08-15 2018-09-14         0    724  교통/건축/국토   \n",
              "\n",
              "                                       title  \\\n",
              "3576  동탄1 신도시의 동탄트램1호선, 동탄트램2호선을 유지하여 착공해주세요   \n",
              "\n",
              "                                                content  votes_pos_neg  \\\n",
              "3576  청원개요\\n존경하는 대통령님\\n동탄 1신도시는 국가의 중추를 담당하는 허리로써\\n인...              0   \n",
              "\n",
              "                                  content_preprocessing  \n",
              "3576  청원개요 존경하는 대통령님 동탄 신도시는 국가의 중추를 담당하는 허리로써 인구 만에...  "
            ]
          },
          "metadata": {
            "tags": []
          },
          "execution_count": 32
        }
      ]
    },
    {
      "metadata": {
        "id": "_duot2AbIoDO",
        "colab_type": "code",
        "outputId": "7654e031-ea62-4211-c6d7-48b238fd3b0f",
        "colab": {
          "base_uri": "https://localhost:8080/",
          "height": 34
        }
      },
      "cell_type": "code",
      "source": [
        "# 테스트세트에서 투표수가 평균보다 많은 건\n",
        "df_test.loc[df_test['votes_pos_neg'] == 1].shape"
      ],
      "execution_count": 33,
      "outputs": [
        {
          "output_type": "execute_result",
          "data": {
            "text/plain": [
              "(273, 11)"
            ]
          },
          "metadata": {
            "tags": []
          },
          "execution_count": 33
        }
      ]
    },
    {
      "metadata": {
        "id": "5Lp1lzZiahzF",
        "colab_type": "text"
      },
      "cell_type": "markdown",
      "source": [
        "---"
      ]
    },
    {
      "metadata": {
        "id": "JN2p-KqWaich",
        "colab_type": "text"
      },
      "cell_type": "markdown",
      "source": [
        "# **단어 벡터화하기**"
      ]
    },
    {
      "metadata": {
        "id": "Cr1re6nlall-",
        "colab_type": "code",
        "outputId": "90595ff3-6312-4f76-bcca-92dac3a0dabe",
        "colab": {
          "base_uri": "https://localhost:8080/",
          "height": 122
        }
      },
      "cell_type": "code",
      "source": [
        "from sklearn.feature_extraction.text import CountVectorizer\n",
        "\n",
        "vectorizer = CountVectorizer(analyzer = 'word',      # 캐릭터 단위로 벡터화 가능\n",
        "                              tokenizer = None,     # 토크나이저를 따로 지정 가능\n",
        "                              preprocessor = None,  # 전처리 도구\n",
        "                              stop_words = None,    # 불용어 nltk 등의 도구를 사용 가능\n",
        "                              min_df = 2,           # 토큰이 나타날 최소 문서 개수로 오타나 자주 나오지 않는 특수한 전문 용어\n",
        "                              ngram_range = (1, 3), # BOW의 단위를 1 ~ 3개로 지정\n",
        "                              max_features = 2000   # 만들 피처 수, 단어의 수\n",
        "                             )\n",
        "vectorizer"
      ],
      "execution_count": 34,
      "outputs": [
        {
          "output_type": "execute_result",
          "data": {
            "text/plain": [
              "CountVectorizer(analyzer='word', binary=False, decode_error='strict',\n",
              "        dtype=<class 'numpy.int64'>, encoding='utf-8', input='content',\n",
              "        lowercase=True, max_df=1.0, max_features=2000, min_df=2,\n",
              "        ngram_range=(1, 3), preprocessor=None, stop_words=None,\n",
              "        strip_accents=None, token_pattern='(?u)\\\\b\\\\w\\\\w+\\\\b',\n",
              "        tokenizer=None, vocabulary=None)"
            ]
          },
          "metadata": {
            "tags": []
          },
          "execution_count": 34
        }
      ]
    },
    {
      "metadata": {
        "id": "iZm3reQrdkQo",
        "colab_type": "code",
        "outputId": "efd6b9ab-9642-40fb-8052-e554ce2b7722",
        "colab": {
          "base_uri": "https://localhost:8080/",
          "height": 34
        }
      },
      "cell_type": "code",
      "source": [
        "train_feature_vector = vectorizer.fit_transform(df_train['content_preprocessing'])\n",
        "train_feature_vector.shape"
      ],
      "execution_count": 35,
      "outputs": [
        {
          "output_type": "execute_result",
          "data": {
            "text/plain": [
              "(3576, 2000)"
            ]
          },
          "metadata": {
            "tags": []
          },
          "execution_count": 35
        }
      ]
    },
    {
      "metadata": {
        "id": "Z3PmxRo8eDuz",
        "colab_type": "code",
        "outputId": "df0a0ca5-8287-457c-f160-d5f3223c3795",
        "colab": {
          "base_uri": "https://localhost:8080/",
          "height": 34
        }
      },
      "cell_type": "code",
      "source": [
        "test_feature_vector = vectorizer.fit_transform(df_test['content_preprocessing'])\n",
        "test_feature_vector.shape"
      ],
      "execution_count": 36,
      "outputs": [
        {
          "output_type": "execute_result",
          "data": {
            "text/plain": [
              "(1533, 2000)"
            ]
          },
          "metadata": {
            "tags": []
          },
          "execution_count": 36
        }
      ]
    },
    {
      "metadata": {
        "id": "IcxK4dTQeOpO",
        "colab_type": "code",
        "outputId": "2dde20e0-23fb-4970-9226-12d113300679",
        "colab": {
          "base_uri": "https://localhost:8080/",
          "height": 210
        }
      },
      "cell_type": "code",
      "source": [
        "vocab = vectorizer.get_feature_names()\n",
        "print(len(vocab))\n",
        "vocab[:10]"
      ],
      "execution_count": 37,
      "outputs": [
        {
          "output_type": "stream",
          "text": [
            "2000\n"
          ],
          "name": "stdout"
        },
        {
          "output_type": "execute_result",
          "data": {
            "text/plain": [
              "['aid',\n",
              " 'article',\n",
              " 'articleview',\n",
              " 'articleview html',\n",
              " 'articleview html idxno',\n",
              " 'a는',\n",
              " 'a의',\n",
              " 'a형',\n",
              " 'b형',\n",
              " 'cctv']"
            ]
          },
          "metadata": {
            "tags": []
          },
          "execution_count": 37
        }
      ]
    },
    {
      "metadata": {
        "id": "Mre2KgfQeiGz",
        "colab_type": "code",
        "outputId": "a39dd46f-d8e7-42be-f92a-80752cd4cc7d",
        "colab": {
          "base_uri": "https://localhost:8080/",
          "height": 106
        }
      },
      "cell_type": "code",
      "source": [
        "dist = np.sum(train_feature_vector, axis = 0)\n",
        "pd.DataFrame(dist, columns = vocab)"
      ],
      "execution_count": 38,
      "outputs": [
        {
          "output_type": "execute_result",
          "data": {
            "text/html": [
              "<div>\n",
              "<style scoped>\n",
              "    .dataframe tbody tr th:only-of-type {\n",
              "        vertical-align: middle;\n",
              "    }\n",
              "\n",
              "    .dataframe tbody tr th {\n",
              "        vertical-align: top;\n",
              "    }\n",
              "\n",
              "    .dataframe thead th {\n",
              "        text-align: right;\n",
              "    }\n",
              "</style>\n",
              "<table border=\"1\" class=\"dataframe\">\n",
              "  <thead>\n",
              "    <tr style=\"text-align: right;\">\n",
              "      <th></th>\n",
              "      <th>aid</th>\n",
              "      <th>article</th>\n",
              "      <th>articleview</th>\n",
              "      <th>articleview html</th>\n",
              "      <th>articleview html idxno</th>\n",
              "      <th>a는</th>\n",
              "      <th>a의</th>\n",
              "      <th>a형</th>\n",
              "      <th>b형</th>\n",
              "      <th>cctv</th>\n",
              "      <th>...</th>\n",
              "      <th>훨씬</th>\n",
              "      <th>희망을</th>\n",
              "      <th>힘든</th>\n",
              "      <th>힘들게</th>\n",
              "      <th>힘들고</th>\n",
              "      <th>힘들어</th>\n",
              "      <th>힘듭니다</th>\n",
              "      <th>힘없는</th>\n",
              "      <th>힘을</th>\n",
              "      <th>힘이</th>\n",
              "    </tr>\n",
              "  </thead>\n",
              "  <tbody>\n",
              "    <tr>\n",
              "      <th>0</th>\n",
              "      <td>123</td>\n",
              "      <td>100</td>\n",
              "      <td>77</td>\n",
              "      <td>108</td>\n",
              "      <td>84</td>\n",
              "      <td>84</td>\n",
              "      <td>58</td>\n",
              "      <td>264</td>\n",
              "      <td>256</td>\n",
              "      <td>116</td>\n",
              "      <td>...</td>\n",
              "      <td>75</td>\n",
              "      <td>128</td>\n",
              "      <td>81</td>\n",
              "      <td>210</td>\n",
              "      <td>129</td>\n",
              "      <td>60</td>\n",
              "      <td>55</td>\n",
              "      <td>53</td>\n",
              "      <td>119</td>\n",
              "      <td>95</td>\n",
              "    </tr>\n",
              "  </tbody>\n",
              "</table>\n",
              "<p>1 rows × 2000 columns</p>\n",
              "</div>"
            ],
            "text/plain": [
              "   aid  article  articleview  articleview html  articleview html idxno  a는  \\\n",
              "0  123      100           77               108                      84  84   \n",
              "\n",
              "   a의   a형   b형  cctv ...  훨씬  희망을  힘든  힘들게  힘들고  힘들어  힘듭니다  힘없는   힘을  힘이  \n",
              "0  58  264  256   116 ...  75  128  81  210  129   60    55   53  119  95  \n",
              "\n",
              "[1 rows x 2000 columns]"
            ]
          },
          "metadata": {
            "tags": []
          },
          "execution_count": 38
        }
      ]
    },
    {
      "metadata": {
        "id": "9BWGc5NYetG-",
        "colab_type": "text"
      },
      "cell_type": "markdown",
      "source": [
        "---"
      ]
    },
    {
      "metadata": {
        "id": "5oUcCnnKewP7",
        "colab_type": "text"
      },
      "cell_type": "markdown",
      "source": [
        "## **TF-IDF 가중치 적용**"
      ]
    },
    {
      "metadata": {
        "id": "1ouXtmMLewY8",
        "colab_type": "code",
        "outputId": "f3b31265-a3d6-4697-a8b6-c7e006b8aa63",
        "colab": {
          "base_uri": "https://localhost:8080/",
          "height": 52
        }
      },
      "cell_type": "code",
      "source": [
        "from sklearn.feature_extraction.text import TfidfTransformer\n",
        "transformer = TfidfTransformer(smooth_idf = False)\n",
        "transformer"
      ],
      "execution_count": 39,
      "outputs": [
        {
          "output_type": "execute_result",
          "data": {
            "text/plain": [
              "TfidfTransformer(norm='l2', smooth_idf=False, sublinear_tf=False,\n",
              "         use_idf=True)"
            ]
          },
          "metadata": {
            "tags": []
          },
          "execution_count": 39
        }
      ]
    },
    {
      "metadata": {
        "id": "9lVmL912fGTj",
        "colab_type": "code",
        "outputId": "e3b9292f-1594-4658-a301-4eb0d4b4dfac",
        "colab": {
          "base_uri": "https://localhost:8080/",
          "height": 34
        }
      },
      "cell_type": "code",
      "source": [
        "train_feature_tfidf = transformer.fit_transform(train_feature_vector)\n",
        "train_feature_tfidf.shape"
      ],
      "execution_count": 40,
      "outputs": [
        {
          "output_type": "execute_result",
          "data": {
            "text/plain": [
              "(3576, 2000)"
            ]
          },
          "metadata": {
            "tags": []
          },
          "execution_count": 40
        }
      ]
    },
    {
      "metadata": {
        "id": "AhbyHbiwfQRm",
        "colab_type": "code",
        "outputId": "2bd3dfef-d595-4cdb-b8c6-856ebfcac07c",
        "colab": {
          "base_uri": "https://localhost:8080/",
          "height": 34
        }
      },
      "cell_type": "code",
      "source": [
        "test_feature_tfidf = transformer.fit_transform(test_feature_vector)\n",
        "test_feature_tfidf.shape"
      ],
      "execution_count": 41,
      "outputs": [
        {
          "output_type": "execute_result",
          "data": {
            "text/plain": [
              "(1533, 2000)"
            ]
          },
          "metadata": {
            "tags": []
          },
          "execution_count": 41
        }
      ]
    },
    {
      "metadata": {
        "id": "1NBgr_QwMQAN",
        "colab_type": "text"
      },
      "cell_type": "markdown",
      "source": [
        "---"
      ]
    },
    {
      "metadata": {
        "id": "3Agflj5EMQJu",
        "colab_type": "text"
      },
      "cell_type": "markdown",
      "source": [
        "## **랜덤 포레스트로 학습시키기**"
      ]
    },
    {
      "metadata": {
        "id": "aaHVIHZ2MQoe",
        "colab_type": "code",
        "colab": {
          "base_uri": "https://localhost:8080/",
          "height": 122
        },
        "outputId": "a7795e1e-f545-463c-a99d-5f84d033c40b"
      },
      "cell_type": "code",
      "source": [
        "from sklearn.ensemble import RandomForestClassifier\n",
        "\n",
        "# '랜덤 포레스트' 분류기를 사용\n",
        "forest = RandomForestClassifier(\n",
        "    n_estimators = 100, n_jobs = -1, random_state = 42\n",
        ")\n",
        "\n",
        "forest"
      ],
      "execution_count": 42,
      "outputs": [
        {
          "output_type": "execute_result",
          "data": {
            "text/plain": [
              "RandomForestClassifier(bootstrap=True, class_weight=None, criterion='gini',\n",
              "            max_depth=None, max_features='auto', max_leaf_nodes=None,\n",
              "            min_impurity_decrease=0.0, min_impurity_split=None,\n",
              "            min_samples_leaf=1, min_samples_split=2,\n",
              "            min_weight_fraction_leaf=0.0, n_estimators=100, n_jobs=-1,\n",
              "            oob_score=False, random_state=42, verbose=0, warm_start=False)"
            ]
          },
          "metadata": {
            "tags": []
          },
          "execution_count": 42
        }
      ]
    },
    {
      "metadata": {
        "id": "2C3rWwAhMr6r",
        "colab_type": "code",
        "colab": {
          "base_uri": "https://localhost:8080/",
          "height": 52
        },
        "outputId": "948603a5-7e0d-4efe-f8ca-ae8637ae39cc"
      },
      "cell_type": "code",
      "source": [
        "# 학습에 사용할 y_label을 넣어준다.\n",
        "y_label = df_train['votes_pos_neg']\n",
        "%time forest = forest.fit(train_feature_tfidf, y_label)"
      ],
      "execution_count": 43,
      "outputs": [
        {
          "output_type": "stream",
          "text": [
            "CPU times: user 7.33 s, sys: 14.8 ms, total: 7.35 s\n",
            "Wall time: 3.77 s\n"
          ],
          "name": "stdout"
        }
      ]
    },
    {
      "metadata": {
        "id": "3SwAtiLZNUEs",
        "colab_type": "text"
      },
      "cell_type": "markdown",
      "source": [
        "---"
      ]
    },
    {
      "metadata": {
        "id": "ZZO2-fHWNUTd",
        "colab_type": "text"
      },
      "cell_type": "markdown",
      "source": [
        "## **평가하기**"
      ]
    },
    {
      "metadata": {
        "id": "zYVu8BNyNVRB",
        "colab_type": "code",
        "colab": {
          "base_uri": "https://localhost:8080/",
          "height": 34
        },
        "outputId": "70ae866c-c99a-4438-be4c-4175bf243960"
      },
      "cell_type": "code",
      "source": [
        "from sklearn.model_selection import KFold\n",
        "from sklearn.model_selection import cross_val_score\n",
        "\n",
        "k_fold = KFold(n_splits = 5, shuffle = True, random_state = 0)\n",
        "\n",
        "scoring = 'accuracy'\n",
        "score = cross_val_score(forest, train_feature_tfidf,\n",
        "                       y_label, cv = k_fold, n_jobs = -1,\n",
        "                       scoring = scoring)\n",
        "\n",
        "score"
      ],
      "execution_count": 44,
      "outputs": [
        {
          "output_type": "execute_result",
          "data": {
            "text/plain": [
              "array([0.79608939, 0.81678322, 0.81818182, 0.81258741, 0.81118881])"
            ]
          },
          "metadata": {
            "tags": []
          },
          "execution_count": 44
        }
      ]
    },
    {
      "metadata": {
        "id": "dNGWv9xiOM86",
        "colab_type": "text"
      },
      "cell_type": "markdown",
      "source": [
        "---"
      ]
    },
    {
      "metadata": {
        "id": "__za2CSuONGB",
        "colab_type": "text"
      },
      "cell_type": "markdown",
      "source": [
        "## **예측**"
      ]
    },
    {
      "metadata": {
        "id": "PgiQlGgvONOT",
        "colab_type": "code",
        "colab": {
          "base_uri": "https://localhost:8080/",
          "height": 34
        },
        "outputId": "ee48c813-9c97-4d6e-e674-da8b4c05fb86"
      },
      "cell_type": "code",
      "source": [
        "# 테스트 데이터를 넣고 예측한다.\n",
        "y_pred = forest.predict(test_feature_tfidf)\n",
        "y_pred[:10]"
      ],
      "execution_count": 45,
      "outputs": [
        {
          "output_type": "execute_result",
          "data": {
            "text/plain": [
              "array([0, 0, 0, 0, 0, 0, 0, 0, 0, 0])"
            ]
          },
          "metadata": {
            "tags": []
          },
          "execution_count": 45
        }
      ]
    },
    {
      "metadata": {
        "id": "1S6aCZwTOlVs",
        "colab_type": "code",
        "colab": {
          "base_uri": "https://localhost:8080/",
          "height": 195
        },
        "outputId": "82178b20-2d6d-497d-c8bd-ceded668dbfd"
      },
      "cell_type": "code",
      "source": [
        "# 예측 결과를 데이터프레임에 담아준다.\n",
        "output = pd.DataFrame(data = {'votes_pos_neg_pred':y_pred})\n",
        "output.head()"
      ],
      "execution_count": 46,
      "outputs": [
        {
          "output_type": "execute_result",
          "data": {
            "text/html": [
              "<div>\n",
              "<style scoped>\n",
              "    .dataframe tbody tr th:only-of-type {\n",
              "        vertical-align: middle;\n",
              "    }\n",
              "\n",
              "    .dataframe tbody tr th {\n",
              "        vertical-align: top;\n",
              "    }\n",
              "\n",
              "    .dataframe thead th {\n",
              "        text-align: right;\n",
              "    }\n",
              "</style>\n",
              "<table border=\"1\" class=\"dataframe\">\n",
              "  <thead>\n",
              "    <tr style=\"text-align: right;\">\n",
              "      <th></th>\n",
              "      <th>votes_pos_neg_pred</th>\n",
              "    </tr>\n",
              "  </thead>\n",
              "  <tbody>\n",
              "    <tr>\n",
              "      <th>0</th>\n",
              "      <td>0</td>\n",
              "    </tr>\n",
              "    <tr>\n",
              "      <th>1</th>\n",
              "      <td>0</td>\n",
              "    </tr>\n",
              "    <tr>\n",
              "      <th>2</th>\n",
              "      <td>0</td>\n",
              "    </tr>\n",
              "    <tr>\n",
              "      <th>3</th>\n",
              "      <td>0</td>\n",
              "    </tr>\n",
              "    <tr>\n",
              "      <th>4</th>\n",
              "      <td>0</td>\n",
              "    </tr>\n",
              "  </tbody>\n",
              "</table>\n",
              "</div>"
            ],
            "text/plain": [
              "   votes_pos_neg_pred\n",
              "0                   0\n",
              "1                   0\n",
              "2                   0\n",
              "3                   0\n",
              "4                   0"
            ]
          },
          "metadata": {
            "tags": []
          },
          "execution_count": 46
        }
      ]
    },
    {
      "metadata": {
        "id": "A0xEYahKPELI",
        "colab_type": "code",
        "colab": {}
      },
      "cell_type": "code",
      "source": [
        "df_test['votes_pos_neg_pred'] = y_pred"
      ],
      "execution_count": 0,
      "outputs": []
    },
    {
      "metadata": {
        "id": "RazVFlZUPJGC",
        "colab_type": "text"
      },
      "cell_type": "markdown",
      "source": [
        "---"
      ]
    },
    {
      "metadata": {
        "id": "5KSNMIR7PJYp",
        "colab_type": "text"
      },
      "cell_type": "markdown",
      "source": [
        "## **예측 결과 정확도 보기**"
      ]
    },
    {
      "metadata": {
        "id": "nwaGWLYxPJfk",
        "colab_type": "code",
        "colab": {
          "base_uri": "https://localhost:8080/",
          "height": 195
        },
        "outputId": "71553ac2-95ef-401f-f0f8-146251ed4de8"
      },
      "cell_type": "code",
      "source": [
        "df_test['pred_diff'] = np.abs(df_test['votes_pos_neg'] - df_test['votes_pos_neg_pred'])\n",
        "df_test[['title', 'votes', 'votes_pos_neg', 'votes_pos_neg_pred', 'pred_diff']].head()"
      ],
      "execution_count": 48,
      "outputs": [
        {
          "output_type": "execute_result",
          "data": {
            "text/html": [
              "<div>\n",
              "<style scoped>\n",
              "    .dataframe tbody tr th:only-of-type {\n",
              "        vertical-align: middle;\n",
              "    }\n",
              "\n",
              "    .dataframe tbody tr th {\n",
              "        vertical-align: top;\n",
              "    }\n",
              "\n",
              "    .dataframe thead th {\n",
              "        text-align: right;\n",
              "    }\n",
              "</style>\n",
              "<table border=\"1\" class=\"dataframe\">\n",
              "  <thead>\n",
              "    <tr style=\"text-align: right;\">\n",
              "      <th></th>\n",
              "      <th>title</th>\n",
              "      <th>votes</th>\n",
              "      <th>votes_pos_neg</th>\n",
              "      <th>votes_pos_neg_pred</th>\n",
              "      <th>pred_diff</th>\n",
              "    </tr>\n",
              "  </thead>\n",
              "  <tbody>\n",
              "    <tr>\n",
              "      <th>3576</th>\n",
              "      <td>동탄1 신도시의 동탄트램1호선, 동탄트램2호선을 유지하여 착공해주세요</td>\n",
              "      <td>724</td>\n",
              "      <td>0</td>\n",
              "      <td>0</td>\n",
              "      <td>0</td>\n",
              "    </tr>\n",
              "    <tr>\n",
              "      <th>3577</th>\n",
              "      <td>어린이집학부모 모니터링과 평가인증 없애야한다고 생각합니다 .</td>\n",
              "      <td>507</td>\n",
              "      <td>0</td>\n",
              "      <td>0</td>\n",
              "      <td>0</td>\n",
              "    </tr>\n",
              "    <tr>\n",
              "      <th>3578</th>\n",
              "      <td>국방부 \"해안·강 경계철책 300㎞ 중 절반 단계적 철거\"  대한민국 안전을 위협합니다.</td>\n",
              "      <td>558</td>\n",
              "      <td>0</td>\n",
              "      <td>0</td>\n",
              "      <td>0</td>\n",
              "    </tr>\n",
              "    <tr>\n",
              "      <th>3579</th>\n",
              "      <td>인천 미추홀구(남구) 악취로 인해 못살겠습니다~</td>\n",
              "      <td>1322</td>\n",
              "      <td>0</td>\n",
              "      <td>0</td>\n",
              "      <td>0</td>\n",
              "    </tr>\n",
              "    <tr>\n",
              "      <th>3580</th>\n",
              "      <td>시민단체수준인 여가부 폐지를 청원합니다</td>\n",
              "      <td>1371</td>\n",
              "      <td>0</td>\n",
              "      <td>0</td>\n",
              "      <td>0</td>\n",
              "    </tr>\n",
              "  </tbody>\n",
              "</table>\n",
              "</div>"
            ],
            "text/plain": [
              "                                                  title  votes  votes_pos_neg  \\\n",
              "3576             동탄1 신도시의 동탄트램1호선, 동탄트램2호선을 유지하여 착공해주세요    724              0   \n",
              "3577                  어린이집학부모 모니터링과 평가인증 없애야한다고 생각합니다 .    507              0   \n",
              "3578  국방부 \"해안·강 경계철책 300㎞ 중 절반 단계적 철거\"  대한민국 안전을 위협합니다.    558              0   \n",
              "3579                         인천 미추홀구(남구) 악취로 인해 못살겠습니다~   1322              0   \n",
              "3580                              시민단체수준인 여가부 폐지를 청원합니다   1371              0   \n",
              "\n",
              "      votes_pos_neg_pred  pred_diff  \n",
              "3576                   0          0  \n",
              "3577                   0          0  \n",
              "3578                   0          0  \n",
              "3579                   0          0  \n",
              "3580                   0          0  "
            ]
          },
          "metadata": {
            "tags": []
          },
          "execution_count": 48
        }
      ]
    },
    {
      "metadata": {
        "id": "2wjnku4HQRAJ",
        "colab_type": "code",
        "colab": {
          "base_uri": "https://localhost:8080/",
          "height": 70
        },
        "outputId": "a518d9de-2ab7-4340-a8cd-5895430c1114"
      },
      "cell_type": "code",
      "source": [
        "pred_diff = df_test['pred_diff'].value_counts()\n",
        "pred_diff"
      ],
      "execution_count": 49,
      "outputs": [
        {
          "output_type": "execute_result",
          "data": {
            "text/plain": [
              "0    1253\n",
              "1     280\n",
              "Name: pred_diff, dtype: int64"
            ]
          },
          "metadata": {
            "tags": []
          },
          "execution_count": 49
        }
      ]
    },
    {
      "metadata": {
        "id": "t-QHytsIQcQR",
        "colab_type": "code",
        "colab": {
          "base_uri": "https://localhost:8080/",
          "height": 34
        },
        "outputId": "9d4728b1-d11e-4367-b132-1c867b0c8f6c"
      },
      "cell_type": "code",
      "source": [
        "print('전체 {}건의 데이터 중에서 {}건 예측'.format(y_pred.shape[0], pred_diff[0]))"
      ],
      "execution_count": 50,
      "outputs": [
        {
          "output_type": "stream",
          "text": [
            "전체 1533건의 데이터 중에서 1253건 예측\n"
          ],
          "name": "stdout"
        }
      ]
    }
  ]
}
