{
  "nbformat": 4,
  "nbformat_minor": 0,
  "metadata": {
    "colab": {
      "name": "K-Means 클러스터링 - 최적 클러스터 개수 찾기.ipynb",
      "version": "0.3.2",
      "provenance": []
    },
    "kernelspec": {
      "name": "python3",
      "display_name": "Python 3"
    }
  },
  "cells": [
    {
      "cell_type": "markdown",
      "metadata": {
        "id": "fF6yrJ8nSxVi",
        "colab_type": "text"
      },
      "source": [
        "* **최적의 클러스트 찾기 실루엣 기법**\n",
        "    * **출처: https://m.blog.naver.com/PostView.nhn?blogId=samsjang&logNo=221017639342&proxyReferer=https%3A%2F%2Fwww.google.com%2F**"
      ]
    },
    {
      "cell_type": "code",
      "metadata": {
        "id": "I6S-xikWRz9d",
        "colab_type": "code",
        "colab": {}
      },
      "source": [
        "import numpy as np\n",
        "from sklearn.metrics import silhouette_samples\n",
        "from matplotlib import cm\n",
        "\n",
        "def plotSilhouette(X, y_km):\n",
        "    cluster_labels = np.unique(y_km)\n",
        "    n_clusters = cluster_labels.shape[0]\n",
        "    silhouette_vals = silhouette_samples(X, y_km, metric = 'euclidean')\n",
        "    y_ax_lower, y_ax_upper = 0, 0\n",
        "    yticks = []\n",
        "    \n",
        "    for i, c in enumerate(cluster_labels):\n",
        "        c_silhouette_vals = silhouette_vals[y_km == c]\n",
        "        c_silhouette_vals.sort()\n",
        "        y_ax_upper += len(c_silhouette_vals)\n",
        "        color = cm.jet(i/n_clusters)\n",
        "        \n",
        "        plt.barh(range(y_ax_lower, y_ax_upper), c_silhouette_vals, height =1.0,\n",
        "                edgecolor = 'none', color = color)\n",
        "        yticks.append((y_ax_lower + y_ax_upper) / 2)\n",
        "        y_ax_lower += len(c_silhouette_vals)\n",
        "        \n",
        "    silhouette_avg = np.mean(silhouette_vals)\n",
        "    plt.axvline(silhouette_avg, color = 'red', linestyle = '--')\n",
        "    plt.yticks(yticks, cluster_labels + 1)\n",
        "    plt.ylabel('클러스터')\n",
        "    plt.xlabel('실루엣 계수')\n",
        "    plt.show()"
      ],
      "execution_count": 0,
      "outputs": []
    },
    {
      "cell_type": "code",
      "metadata": {
        "id": "_zGoAs9QTDTQ",
        "colab_type": "code",
        "colab": {}
      },
      "source": [
        "km = KMeans(n_clusters = 13, random_state =0)\n",
        "y_km = km.fit_predict(dataset1)\n",
        "plotSilhouette(dataset1, y_km)"
      ],
      "execution_count": 0,
      "outputs": []
    }
  ]
}